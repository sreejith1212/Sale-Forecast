{
 "cells": [
  {
   "cell_type": "markdown",
   "id": "d8b5b333",
   "metadata": {
    "papermill": {
     "duration": 0.009378,
     "end_time": "2023-10-16T02:59:49.758101",
     "exception": false,
     "start_time": "2023-10-16T02:59:49.748723",
     "status": "completed"
    },
    "tags": []
   },
   "source": [
    "# Sales Forecasting Model Evaluation"
   ]
  },
  {
   "cell_type": "markdown",
   "id": "1899d320",
   "metadata": {
    "papermill": {
     "duration": 0.008034,
     "end_time": "2023-10-16T02:59:49.808928",
     "exception": false,
     "start_time": "2023-10-16T02:59:49.800894",
     "status": "completed"
    },
    "tags": []
   },
   "source": [
    "The dataset contains weekly sales for six distinct products from a beverage company over the span of a little over three years."
   ]
  },
  {
   "cell_type": "markdown",
   "id": "484dee2c",
   "metadata": {
    "papermill": {
     "duration": 0.008275,
     "end_time": "2023-10-16T02:59:49.825628",
     "exception": false,
     "start_time": "2023-10-16T02:59:49.817353",
     "status": "completed"
    },
    "tags": []
   },
   "source": [
    "### Table of Contents"
   ]
  },
  {
   "cell_type": "markdown",
   "id": "337c1fd8",
   "metadata": {
    "papermill": {
     "duration": 0.008486,
     "end_time": "2023-10-16T02:59:49.842837",
     "exception": false,
     "start_time": "2023-10-16T02:59:49.834351",
     "status": "completed"
    },
    "tags": []
   },
   "source": [
    "- [Overview](#ov)\n",
    "- [Data Cleaning and Transformation](#dc)\n",
    "- [Initial Problem](#ip)\n",
    "- [Random Forest](#rf)\n",
    "- [Extra Tree Regressor](#etr)\n",
    "- [XGBoost](#xgb)\n",
    "- [Decision Trees](#dt)\n",
    "- [Linear Regression](#lr)\n",
    "- [Results](#re)"
   ]
  },
  {
   "cell_type": "markdown",
   "id": "2ed4b524",
   "metadata": {
    "papermill": {
     "duration": 0.008203,
     "end_time": "2023-10-16T02:59:49.859789",
     "exception": false,
     "start_time": "2023-10-16T02:59:49.851586",
     "status": "completed"
    },
    "tags": []
   },
   "source": [
    "### Overview<a id='ov'></a>"
   ]
  },
  {
   "cell_type": "markdown",
   "id": "cdc8d857",
   "metadata": {
    "papermill": {
     "duration": 0.008541,
     "end_time": "2023-10-16T02:59:49.876870",
     "exception": false,
     "start_time": "2023-10-16T02:59:49.868329",
     "status": "completed"
    },
    "tags": []
   },
   "source": [
    "\n",
    "Our objectives are as follows:\n",
    "- Clean and transform the data\n",
    "- Create and remove features\n",
    "- Perform forecasting with models\n",
    "- Select the best performing model"
   ]
  },
  {
   "cell_type": "markdown",
   "id": "9453ef43",
   "metadata": {
    "papermill": {
     "duration": 0.008379,
     "end_time": "2023-10-16T02:59:49.893929",
     "exception": false,
     "start_time": "2023-10-16T02:59:49.885550",
     "status": "completed"
    },
    "tags": []
   },
   "source": [
    "### Data Cleaning and Transforming<a id='dc'></a>"
   ]
  },
  {
   "cell_type": "markdown",
   "id": "9eda2dbc",
   "metadata": {
    "papermill": {
     "duration": 0.008816,
     "end_time": "2023-10-16T02:59:49.913066",
     "exception": false,
     "start_time": "2023-10-16T02:59:49.904250",
     "status": "completed"
    },
    "tags": []
   },
   "source": [
    "We'll begin by loading in some libraries and the data we'll be working with:"
   ]
  },
  {
   "cell_type": "code",
   "execution_count": 319,
   "id": "8bcf42a2",
   "metadata": {
    "execution": {
     "iopub.execute_input": "2023-10-16T02:59:49.932529Z",
     "iopub.status.busy": "2023-10-16T02:59:49.932210Z",
     "iopub.status.idle": "2023-10-16T02:59:51.750083Z",
     "shell.execute_reply": "2023-10-16T02:59:51.748139Z"
    },
    "papermill": {
     "duration": 1.830655,
     "end_time": "2023-10-16T02:59:51.752643",
     "exception": false,
     "start_time": "2023-10-16T02:59:49.921988",
     "status": "completed"
    },
    "tags": []
   },
   "outputs": [],
   "source": [
    "import pandas as pd\n",
    "import numpy as np\n",
    "import matplotlib.pyplot as plt\n",
    "import seaborn as sns"
   ]
  },
  {
   "cell_type": "code",
   "execution_count": 320,
   "id": "77a139f8",
   "metadata": {
    "execution": {
     "iopub.execute_input": "2023-10-16T02:59:51.833028Z",
     "iopub.status.busy": "2023-10-16T02:59:51.832297Z",
     "iopub.status.idle": "2023-10-16T02:59:51.874869Z",
     "shell.execute_reply": "2023-10-16T02:59:51.873940Z"
    },
    "papermill": {
     "duration": 0.053943,
     "end_time": "2023-10-16T02:59:51.876387",
     "exception": false,
     "start_time": "2023-10-16T02:59:51.822444",
     "status": "completed"
    },
    "tags": []
   },
   "outputs": [
    {
     "data": {
      "text/html": [
       "<div>\n",
       "<style scoped>\n",
       "    .dataframe tbody tr th:only-of-type {\n",
       "        vertical-align: middle;\n",
       "    }\n",
       "\n",
       "    .dataframe tbody tr th {\n",
       "        vertical-align: top;\n",
       "    }\n",
       "\n",
       "    .dataframe thead th {\n",
       "        text-align: right;\n",
       "    }\n",
       "</style>\n",
       "<table border=\"1\" class=\"dataframe\">\n",
       "  <thead>\n",
       "    <tr style=\"text-align: right;\">\n",
       "      <th></th>\n",
       "      <th>Product</th>\n",
       "      <th>date</th>\n",
       "      <th>Sales</th>\n",
       "      <th>Price Discount (%)</th>\n",
       "      <th>In-Store Promo</th>\n",
       "      <th>Catalogue Promo</th>\n",
       "      <th>Store End Promo</th>\n",
       "      <th>Google_Mobility</th>\n",
       "      <th>Covid_Flag</th>\n",
       "      <th>V_DAY</th>\n",
       "      <th>EASTER</th>\n",
       "      <th>CHRISTMAS</th>\n",
       "    </tr>\n",
       "  </thead>\n",
       "  <tbody>\n",
       "    <tr>\n",
       "      <th>0</th>\n",
       "      <td>SKU1</td>\n",
       "      <td>2/5/2017</td>\n",
       "      <td>27750</td>\n",
       "      <td>0%</td>\n",
       "      <td>0</td>\n",
       "      <td>0</td>\n",
       "      <td>0</td>\n",
       "      <td>0.0</td>\n",
       "      <td>0</td>\n",
       "      <td>0</td>\n",
       "      <td>0</td>\n",
       "      <td>0</td>\n",
       "    </tr>\n",
       "    <tr>\n",
       "      <th>1</th>\n",
       "      <td>SKU1</td>\n",
       "      <td>2/12/2017</td>\n",
       "      <td>29023</td>\n",
       "      <td>0%</td>\n",
       "      <td>1</td>\n",
       "      <td>0</td>\n",
       "      <td>1</td>\n",
       "      <td>0.0</td>\n",
       "      <td>0</td>\n",
       "      <td>1</td>\n",
       "      <td>0</td>\n",
       "      <td>0</td>\n",
       "    </tr>\n",
       "    <tr>\n",
       "      <th>2</th>\n",
       "      <td>SKU1</td>\n",
       "      <td>2/19/2017</td>\n",
       "      <td>45630</td>\n",
       "      <td>17%</td>\n",
       "      <td>0</td>\n",
       "      <td>0</td>\n",
       "      <td>0</td>\n",
       "      <td>0.0</td>\n",
       "      <td>0</td>\n",
       "      <td>0</td>\n",
       "      <td>0</td>\n",
       "      <td>0</td>\n",
       "    </tr>\n",
       "    <tr>\n",
       "      <th>3</th>\n",
       "      <td>SKU1</td>\n",
       "      <td>2/26/2017</td>\n",
       "      <td>26789</td>\n",
       "      <td>0%</td>\n",
       "      <td>1</td>\n",
       "      <td>0</td>\n",
       "      <td>1</td>\n",
       "      <td>0.0</td>\n",
       "      <td>0</td>\n",
       "      <td>0</td>\n",
       "      <td>0</td>\n",
       "      <td>0</td>\n",
       "    </tr>\n",
       "    <tr>\n",
       "      <th>4</th>\n",
       "      <td>SKU1</td>\n",
       "      <td>3/5/2017</td>\n",
       "      <td>41999</td>\n",
       "      <td>17%</td>\n",
       "      <td>0</td>\n",
       "      <td>0</td>\n",
       "      <td>0</td>\n",
       "      <td>0.0</td>\n",
       "      <td>0</td>\n",
       "      <td>0</td>\n",
       "      <td>0</td>\n",
       "      <td>0</td>\n",
       "    </tr>\n",
       "  </tbody>\n",
       "</table>\n",
       "</div>"
      ],
      "text/plain": [
       "  Product       date  Sales Price Discount (%)  In-Store Promo  \\\n",
       "0    SKU1   2/5/2017  27750                 0%               0   \n",
       "1    SKU1  2/12/2017  29023                 0%               1   \n",
       "2    SKU1  2/19/2017  45630                17%               0   \n",
       "3    SKU1  2/26/2017  26789                 0%               1   \n",
       "4    SKU1   3/5/2017  41999                17%               0   \n",
       "\n",
       "   Catalogue Promo  Store End Promo  Google_Mobility  Covid_Flag  V_DAY  \\\n",
       "0                0                0              0.0           0      0   \n",
       "1                0                1              0.0           0      1   \n",
       "2                0                0              0.0           0      0   \n",
       "3                0                1              0.0           0      0   \n",
       "4                0                0              0.0           0      0   \n",
       "\n",
       "   EASTER  CHRISTMAS  \n",
       "0       0          0  \n",
       "1       0          0  \n",
       "2       0          0  \n",
       "3       0          0  \n",
       "4       0          0  "
      ]
     },
     "execution_count": 320,
     "metadata": {},
     "output_type": "execute_result"
    }
   ],
   "source": [
    "df = pd.read_csv('sales_forecast.csv')\n",
    "df.head()"
   ]
  },
  {
   "cell_type": "code",
   "execution_count": 321,
   "id": "7701f3c4",
   "metadata": {
    "execution": {
     "iopub.execute_input": "2023-10-16T02:59:51.954708Z",
     "iopub.status.busy": "2023-10-16T02:59:51.954413Z",
     "iopub.status.idle": "2023-10-16T02:59:51.986087Z",
     "shell.execute_reply": "2023-10-16T02:59:51.984847Z"
    },
    "papermill": {
     "duration": 0.044797,
     "end_time": "2023-10-16T02:59:51.988248",
     "exception": false,
     "start_time": "2023-10-16T02:59:51.943451",
     "status": "completed"
    },
    "tags": []
   },
   "outputs": [
    {
     "name": "stdout",
     "output_type": "stream",
     "text": [
      "<class 'pandas.core.frame.DataFrame'>\n",
      "RangeIndex: 1218 entries, 0 to 1217\n",
      "Data columns (total 12 columns):\n",
      " #   Column              Non-Null Count  Dtype  \n",
      "---  ------              --------------  -----  \n",
      " 0   Product             1218 non-null   object \n",
      " 1   date                1218 non-null   object \n",
      " 2   Sales               1218 non-null   int64  \n",
      " 3   Price Discount (%)  1218 non-null   object \n",
      " 4   In-Store Promo      1218 non-null   int64  \n",
      " 5   Catalogue Promo     1218 non-null   int64  \n",
      " 6   Store End Promo     1218 non-null   int64  \n",
      " 7   Google_Mobility     1218 non-null   float64\n",
      " 8   Covid_Flag          1218 non-null   int64  \n",
      " 9   V_DAY               1218 non-null   int64  \n",
      " 10  EASTER              1218 non-null   int64  \n",
      " 11  CHRISTMAS           1218 non-null   int64  \n",
      "dtypes: float64(1), int64(8), object(3)\n",
      "memory usage: 114.3+ KB\n"
     ]
    }
   ],
   "source": [
    "df.info()"
   ]
  },
  {
   "cell_type": "code",
   "execution_count": 322,
   "id": "83624a97",
   "metadata": {},
   "outputs": [
    {
     "data": {
      "text/plain": [
       "Product               0\n",
       "date                  0\n",
       "Sales                 0\n",
       "Price Discount (%)    0\n",
       "In-Store Promo        0\n",
       "Catalogue Promo       0\n",
       "Store End Promo       0\n",
       "Google_Mobility       0\n",
       "Covid_Flag            0\n",
       "V_DAY                 0\n",
       "EASTER                0\n",
       "CHRISTMAS             0\n",
       "dtype: int64"
      ]
     },
     "execution_count": 322,
     "metadata": {},
     "output_type": "execute_result"
    }
   ],
   "source": [
    "df.isna().sum()"
   ]
  },
  {
   "cell_type": "markdown",
   "id": "a8103e70",
   "metadata": {},
   "source": [
    "* There is no null value present in the dataset"
   ]
  },
  {
   "cell_type": "code",
   "execution_count": 323,
   "id": "4106e824",
   "metadata": {
    "execution": {
     "iopub.execute_input": "2023-10-16T02:59:52.026328Z",
     "iopub.status.busy": "2023-10-16T02:59:52.026008Z",
     "iopub.status.idle": "2023-10-16T02:59:52.037803Z",
     "shell.execute_reply": "2023-10-16T02:59:52.037033Z"
    },
    "papermill": {
     "duration": 0.023988,
     "end_time": "2023-10-16T02:59:52.039338",
     "exception": false,
     "start_time": "2023-10-16T02:59:52.015350",
     "status": "completed"
    },
    "tags": []
   },
   "outputs": [
    {
     "data": {
      "text/plain": [
       "0        0.0\n",
       "1        0.0\n",
       "2       17.0\n",
       "3        0.0\n",
       "4       17.0\n",
       "        ... \n",
       "1213    54.0\n",
       "1214    52.0\n",
       "1215    54.0\n",
       "1216    44.0\n",
       "1217    44.0\n",
       "Name: Price Discount (%), Length: 1218, dtype: float64"
      ]
     },
     "execution_count": 323,
     "metadata": {},
     "output_type": "execute_result"
    }
   ],
   "source": [
    "# removing the percentage sign and then formatting as float\n",
    "\n",
    "df['Price Discount (%)'] = df['Price Discount (%)'].replace('%','', regex = True).astype(np.float64)\n",
    "df['Price Discount (%)']"
   ]
  },
  {
   "cell_type": "code",
   "execution_count": 324,
   "id": "9dbb131c",
   "metadata": {
    "execution": {
     "iopub.execute_input": "2023-10-16T02:59:52.078559Z",
     "iopub.status.busy": "2023-10-16T02:59:52.078186Z",
     "iopub.status.idle": "2023-10-16T02:59:52.084776Z",
     "shell.execute_reply": "2023-10-16T02:59:52.083722Z"
    },
    "papermill": {
     "duration": 0.018548,
     "end_time": "2023-10-16T02:59:52.086193",
     "exception": false,
     "start_time": "2023-10-16T02:59:52.067645",
     "status": "completed"
    },
    "tags": []
   },
   "outputs": [
    {
     "data": {
      "text/plain": [
       "6"
      ]
     },
     "execution_count": 324,
     "metadata": {},
     "output_type": "execute_result"
    }
   ],
   "source": [
    "df['Product'].nunique()"
   ]
  },
  {
   "cell_type": "markdown",
   "id": "b770bccb",
   "metadata": {
    "papermill": {
     "duration": 0.009006,
     "end_time": "2023-10-16T02:59:52.104600",
     "exception": false,
     "start_time": "2023-10-16T02:59:52.095594",
     "status": "completed"
    },
    "tags": []
   },
   "source": [
    "We can do some visual inspections of the sales distributions within our dataframe to spot any outliers."
   ]
  },
  {
   "cell_type": "code",
   "execution_count": 325,
   "id": "1fe0948d",
   "metadata": {
    "execution": {
     "iopub.execute_input": "2023-10-16T02:59:52.123986Z",
     "iopub.status.busy": "2023-10-16T02:59:52.123655Z",
     "iopub.status.idle": "2023-10-16T02:59:52.314342Z",
     "shell.execute_reply": "2023-10-16T02:59:52.313667Z"
    },
    "papermill": {
     "duration": 0.202562,
     "end_time": "2023-10-16T02:59:52.316132",
     "exception": false,
     "start_time": "2023-10-16T02:59:52.113570",
     "status": "completed"
    },
    "tags": []
   },
   "outputs": [
    {
     "data": {
      "text/plain": [
       "<Axes: >"
      ]
     },
     "execution_count": 325,
     "metadata": {},
     "output_type": "execute_result"
    },
    {
     "data": {
      "image/png": "[encoded data removed]",
      "text/plain": [
       "<Figure size 640x480 with 1 Axes>"
      ]
     },
     "metadata": {},
     "output_type": "display_data"
    }
   ],
   "source": [
    "df['Sales'].plot(kind = 'box')"
   ]
  },
  {
   "cell_type": "markdown",
   "id": "843720a2",
   "metadata": {
    "papermill": {
     "duration": 0.010435,
     "end_time": "2023-10-16T02:59:52.338464",
     "exception": false,
     "start_time": "2023-10-16T02:59:52.328029",
     "status": "completed"
    },
    "tags": []
   },
   "source": [
    "Data points above the maximum of a boxplot isn't a good sign, especially when we're building a model with such limited data. We should gauge the skew of the Sales distribution."
   ]
  },
  {
   "cell_type": "code",
   "execution_count": 326,
   "id": "a1962d5d",
   "metadata": {
    "execution": {
     "iopub.execute_input": "2023-10-16T02:59:52.360899Z",
     "iopub.status.busy": "2023-10-16T02:59:52.360317Z",
     "iopub.status.idle": "2023-10-16T02:59:52.549184Z",
     "shell.execute_reply": "2023-10-16T02:59:52.547947Z"
    },
    "papermill": {
     "duration": 0.202474,
     "end_time": "2023-10-16T02:59:52.551365",
     "exception": false,
     "start_time": "2023-10-16T02:59:52.348891",
     "status": "completed"
    },
    "tags": []
   },
   "outputs": [
    {
     "data": {
      "text/plain": [
       "<Axes: ylabel='Frequency'>"
      ]
     },
     "execution_count": 326,
     "metadata": {},
     "output_type": "execute_result"
    },
    {
     "data": {
      "image/png": "[encoded data removed]",
      "text/plain": [
       "<Figure size 640x480 with 1 Axes>"
      ]
     },
     "metadata": {},
     "output_type": "display_data"
    }
   ],
   "source": [
    "df['Sales'].plot(kind = 'hist')"
   ]
  },
  {
   "cell_type": "markdown",
   "id": "846b83ac",
   "metadata": {
    "papermill": {
     "duration": 0.010059,
     "end_time": "2023-10-16T02:59:52.572137",
     "exception": false,
     "start_time": "2023-10-16T02:59:52.562078",
     "status": "completed"
    },
    "tags": []
   },
   "source": [
    "We can see that the distribution is incredibly skewed, with very few data points above 100,000 sales. Not only will this alter our averages and summaries, but it can only do harm to our model. We'll have to remove the datapoints above 100,000 and examine the new distribution."
   ]
  },
  {
   "cell_type": "code",
   "execution_count": 327,
   "id": "b54c1b3b",
   "metadata": {
    "execution": {
     "iopub.execute_input": "2023-10-16T02:59:52.594646Z",
     "iopub.status.busy": "2023-10-16T02:59:52.594338Z",
     "iopub.status.idle": "2023-10-16T02:59:52.787088Z",
     "shell.execute_reply": "2023-10-16T02:59:52.785982Z"
    },
    "papermill": {
     "duration": 0.207244,
     "end_time": "2023-10-16T02:59:52.789930",
     "exception": false,
     "start_time": "2023-10-16T02:59:52.582686",
     "status": "completed"
    },
    "tags": []
   },
   "outputs": [
    {
     "data": {
      "text/plain": [
       "<Axes: ylabel='Frequency'>"
      ]
     },
     "execution_count": 327,
     "metadata": {},
     "output_type": "execute_result"
    },
    {
     "data": {
      "image/png": "[encoded data removed]",
      "text/plain": [
       "<Figure size 640x480 with 1 Axes>"
      ]
     },
     "metadata": {},
     "output_type": "display_data"
    }
   ],
   "source": [
    "df = df[df['Sales'] <= 100000]\n",
    "\n",
    "df['Sales'].plot(kind = 'hist')"
   ]
  },
  {
   "cell_type": "code",
   "execution_count": 328,
   "id": "0363c622",
   "metadata": {
    "execution": {
     "iopub.execute_input": "2023-10-16T02:59:52.836444Z",
     "iopub.status.busy": "2023-10-16T02:59:52.835686Z",
     "iopub.status.idle": "2023-10-16T02:59:52.952440Z",
     "shell.execute_reply": "2023-10-16T02:59:52.951355Z"
    },
    "papermill": {
     "duration": 0.131783,
     "end_time": "2023-10-16T02:59:52.955475",
     "exception": false,
     "start_time": "2023-10-16T02:59:52.823692",
     "status": "completed"
    },
    "tags": []
   },
   "outputs": [
    {
     "data": {
      "text/plain": [
       "<Axes: >"
      ]
     },
     "execution_count": 328,
     "metadata": {},
     "output_type": "execute_result"
    },
    {
     "data": {
      "image/png": "[encoded data removed]",
      "text/plain": [
       "<Figure size 640x480 with 1 Axes>"
      ]
     },
     "metadata": {},
     "output_type": "display_data"
    }
   ],
   "source": [
    "df['Price Discount (%)'].plot(kind = 'box')"
   ]
  },
  {
   "cell_type": "markdown",
   "id": "4afd0947",
   "metadata": {
    "papermill": {
     "duration": 0.014829,
     "end_time": "2023-10-16T02:59:52.988446",
     "exception": false,
     "start_time": "2023-10-16T02:59:52.973617",
     "status": "completed"
    },
    "tags": []
   },
   "source": [
    "The Price Discount column's distribution appears normal."
   ]
  },
  {
   "cell_type": "code",
   "execution_count": 329,
   "id": "72f73f5f",
   "metadata": {
    "execution": {
     "iopub.execute_input": "2023-10-16T02:59:53.035607Z",
     "iopub.status.busy": "2023-10-16T02:59:53.035102Z",
     "iopub.status.idle": "2023-10-16T02:59:53.050842Z",
     "shell.execute_reply": "2023-10-16T02:59:53.049375Z"
    },
    "papermill": {
     "duration": 0.0302,
     "end_time": "2023-10-16T02:59:53.053133",
     "exception": false,
     "start_time": "2023-10-16T02:59:53.022933",
     "status": "completed"
    },
    "tags": []
   },
   "outputs": [
    {
     "name": "stdout",
     "output_type": "stream",
     "text": [
      "<class 'pandas.core.frame.DataFrame'>\n",
      "Index: 1172 entries, 0 to 1217\n",
      "Data columns (total 12 columns):\n",
      " #   Column              Non-Null Count  Dtype  \n",
      "---  ------              --------------  -----  \n",
      " 0   Product             1172 non-null   object \n",
      " 1   date                1172 non-null   object \n",
      " 2   Sales               1172 non-null   int64  \n",
      " 3   Price Discount (%)  1172 non-null   float64\n",
      " 4   In-Store Promo      1172 non-null   int64  \n",
      " 5   Catalogue Promo     1172 non-null   int64  \n",
      " 6   Store End Promo     1172 non-null   int64  \n",
      " 7   Google_Mobility     1172 non-null   float64\n",
      " 8   Covid_Flag          1172 non-null   int64  \n",
      " 9   V_DAY               1172 non-null   int64  \n",
      " 10  EASTER              1172 non-null   int64  \n",
      " 11  CHRISTMAS           1172 non-null   int64  \n",
      "dtypes: float64(2), int64(8), object(2)\n",
      "memory usage: 119.0+ KB\n"
     ]
    }
   ],
   "source": [
    "df = df.drop_duplicates()\n",
    "df.info()"
   ]
  },
  {
   "cell_type": "code",
   "execution_count": 330,
   "id": "9d060dd6",
   "metadata": {
    "execution": {
     "iopub.execute_input": "2023-10-16T02:59:53.078831Z",
     "iopub.status.busy": "2023-10-16T02:59:53.078513Z",
     "iopub.status.idle": "2023-10-16T02:59:53.090673Z",
     "shell.execute_reply": "2023-10-16T02:59:53.089160Z"
    },
    "papermill": {
     "duration": 0.028324,
     "end_time": "2023-10-16T02:59:53.092967",
     "exception": false,
     "start_time": "2023-10-16T02:59:53.064643",
     "status": "completed"
    },
    "tags": []
   },
   "outputs": [
    {
     "name": "stdout",
     "output_type": "stream",
     "text": [
      "<class 'pandas.core.frame.DataFrame'>\n",
      "Index: 1172 entries, 0 to 1217\n",
      "Data columns (total 12 columns):\n",
      " #   Column              Non-Null Count  Dtype  \n",
      "---  ------              --------------  -----  \n",
      " 0   Product             1172 non-null   object \n",
      " 1   date                1172 non-null   object \n",
      " 2   Sales               1172 non-null   int64  \n",
      " 3   Price Discount (%)  1172 non-null   float64\n",
      " 4   In-Store Promo      1172 non-null   int64  \n",
      " 5   Catalogue Promo     1172 non-null   int64  \n",
      " 6   Store End Promo     1172 non-null   int64  \n",
      " 7   Google_Mobility     1172 non-null   float64\n",
      " 8   Covid_Flag          1172 non-null   int64  \n",
      " 9   V_DAY               1172 non-null   int64  \n",
      " 10  EASTER              1172 non-null   int64  \n",
      " 11  CHRISTMAS           1172 non-null   int64  \n",
      "dtypes: float64(2), int64(8), object(2)\n",
      "memory usage: 119.0+ KB\n"
     ]
    }
   ],
   "source": [
    "df = df.drop_duplicates(subset = ['Product','Sales','Price Discount (%)','date'])\n",
    "df.info()"
   ]
  },
  {
   "cell_type": "markdown",
   "id": "2fea4d22",
   "metadata": {
    "papermill": {
     "duration": 0.011464,
     "end_time": "2023-10-16T02:59:53.116131",
     "exception": false,
     "start_time": "2023-10-16T02:59:53.104667",
     "status": "completed"
    },
    "tags": []
   },
   "source": [
    "Next we will convert the date column to the datetime format"
   ]
  },
  {
   "cell_type": "code",
   "execution_count": 331,
   "id": "ccebf01c",
   "metadata": {
    "execution": {
     "iopub.execute_input": "2023-10-16T02:59:53.142217Z",
     "iopub.status.busy": "2023-10-16T02:59:53.140625Z",
     "iopub.status.idle": "2023-10-16T02:59:53.156357Z",
     "shell.execute_reply": "2023-10-16T02:59:53.155761Z"
    },
    "papermill": {
     "duration": 0.030628,
     "end_time": "2023-10-16T02:59:53.158326",
     "exception": false,
     "start_time": "2023-10-16T02:59:53.127698",
     "status": "completed"
    },
    "tags": []
   },
   "outputs": [
    {
     "data": {
      "text/plain": [
       "0      2017-02-05\n",
       "1      2017-02-12\n",
       "2      2017-02-19\n",
       "3      2017-02-26\n",
       "4      2017-03-05\n",
       "          ...    \n",
       "1211   2020-10-04\n",
       "1212   2020-10-11\n",
       "1213   2020-10-18\n",
       "1216   2020-11-08\n",
       "1217   2020-11-15\n",
       "Name: date, Length: 1172, dtype: datetime64[ns]"
      ]
     },
     "execution_count": 331,
     "metadata": {},
     "output_type": "execute_result"
    }
   ],
   "source": [
    "df['date'] = pd.to_datetime(df.date, format = '%m/%d/%Y')\n",
    "df['date']"
   ]
  },
  {
   "cell_type": "markdown",
   "id": "39757616",
   "metadata": {
    "papermill": {
     "duration": 0.012551,
     "end_time": "2023-10-16T02:59:53.182217",
     "exception": false,
     "start_time": "2023-10-16T02:59:53.169666",
     "status": "completed"
    },
    "tags": []
   },
   "source": [
    "Now we can check when the data's timeframe begins and ends."
   ]
  },
  {
   "cell_type": "code",
   "execution_count": 332,
   "id": "efd416ae",
   "metadata": {
    "execution": {
     "iopub.execute_input": "2023-10-16T02:59:53.207490Z",
     "iopub.status.busy": "2023-10-16T02:59:53.206954Z",
     "iopub.status.idle": "2023-10-16T02:59:53.213207Z",
     "shell.execute_reply": "2023-10-16T02:59:53.212221Z"
    },
    "papermill": {
     "duration": 0.021039,
     "end_time": "2023-10-16T02:59:53.215129",
     "exception": false,
     "start_time": "2023-10-16T02:59:53.194090",
     "status": "completed"
    },
    "tags": []
   },
   "outputs": [
    {
     "name": "stdout",
     "output_type": "stream",
     "text": [
      "The actual dataframe starts at 2017-02-05 00:00:00 .\n",
      "The actual dataframe ends at 2020-12-27 00:00:00 .\n"
     ]
    }
   ],
   "source": [
    "print('The actual dataframe starts at',df.date.min(),'.')\n",
    "print('The actual dataframe ends at',df.date.max(),'.')"
   ]
  },
  {
   "cell_type": "code",
   "execution_count": 333,
   "id": "1d53189d",
   "metadata": {
    "execution": {
     "iopub.execute_input": "2023-10-16T02:59:53.308911Z",
     "iopub.status.busy": "2023-10-16T02:59:53.308189Z",
     "iopub.status.idle": "2023-10-16T02:59:53.319982Z",
     "shell.execute_reply": "2023-10-16T02:59:53.318574Z"
    },
    "papermill": {
     "duration": 0.026261,
     "end_time": "2023-10-16T02:59:53.321737",
     "exception": false,
     "start_time": "2023-10-16T02:59:53.295476",
     "status": "completed"
    },
    "tags": []
   },
   "outputs": [
    {
     "data": {
      "text/plain": [
       "204"
      ]
     },
     "execution_count": 333,
     "metadata": {},
     "output_type": "execute_result"
    }
   ],
   "source": [
    "actual_duration = pd.date_range(start='2017-02-05', end = '2020-12-27', freq = 'W')\n",
    "len(actual_duration)"
   ]
  },
  {
   "cell_type": "code",
   "execution_count": 334,
   "id": "def32298",
   "metadata": {},
   "outputs": [
    {
     "data": {
      "text/plain": [
       "204"
      ]
     },
     "execution_count": 334,
     "metadata": {},
     "output_type": "execute_result"
    }
   ],
   "source": [
    "df.date.nunique()"
   ]
  },
  {
   "cell_type": "markdown",
   "id": "f61fdff5",
   "metadata": {},
   "source": [
    "The Sales data is in a weekly format."
   ]
  },
  {
   "cell_type": "code",
   "execution_count": 335,
   "id": "076fedd0",
   "metadata": {},
   "outputs": [
    {
     "data": {
      "text/html": [
       "<div>\n",
       "<style scoped>\n",
       "    .dataframe tbody tr th:only-of-type {\n",
       "        vertical-align: middle;\n",
       "    }\n",
       "\n",
       "    .dataframe tbody tr th {\n",
       "        vertical-align: top;\n",
       "    }\n",
       "\n",
       "    .dataframe thead th {\n",
       "        text-align: right;\n",
       "    }\n",
       "</style>\n",
       "<table border=\"1\" class=\"dataframe\">\n",
       "  <thead>\n",
       "    <tr style=\"text-align: right;\">\n",
       "      <th></th>\n",
       "      <th>Product</th>\n",
       "      <th>Sales</th>\n",
       "      <th>Price Discount (%)</th>\n",
       "      <th>In-Store Promo</th>\n",
       "      <th>Catalogue Promo</th>\n",
       "      <th>Store End Promo</th>\n",
       "      <th>Google_Mobility</th>\n",
       "      <th>Covid_Flag</th>\n",
       "      <th>V_DAY</th>\n",
       "      <th>EASTER</th>\n",
       "      <th>CHRISTMAS</th>\n",
       "    </tr>\n",
       "    <tr>\n",
       "      <th>date</th>\n",
       "      <th></th>\n",
       "      <th></th>\n",
       "      <th></th>\n",
       "      <th></th>\n",
       "      <th></th>\n",
       "      <th></th>\n",
       "      <th></th>\n",
       "      <th></th>\n",
       "      <th></th>\n",
       "      <th></th>\n",
       "      <th></th>\n",
       "    </tr>\n",
       "  </thead>\n",
       "  <tbody>\n",
       "    <tr>\n",
       "      <th>2017-02-05</th>\n",
       "      <td>SKU1</td>\n",
       "      <td>27750</td>\n",
       "      <td>0.0</td>\n",
       "      <td>0</td>\n",
       "      <td>0</td>\n",
       "      <td>0</td>\n",
       "      <td>0.00</td>\n",
       "      <td>0</td>\n",
       "      <td>0</td>\n",
       "      <td>0</td>\n",
       "      <td>0</td>\n",
       "    </tr>\n",
       "    <tr>\n",
       "      <th>2017-02-12</th>\n",
       "      <td>SKU1</td>\n",
       "      <td>29023</td>\n",
       "      <td>0.0</td>\n",
       "      <td>1</td>\n",
       "      <td>0</td>\n",
       "      <td>1</td>\n",
       "      <td>0.00</td>\n",
       "      <td>0</td>\n",
       "      <td>1</td>\n",
       "      <td>0</td>\n",
       "      <td>0</td>\n",
       "    </tr>\n",
       "    <tr>\n",
       "      <th>2017-02-19</th>\n",
       "      <td>SKU1</td>\n",
       "      <td>45630</td>\n",
       "      <td>17.0</td>\n",
       "      <td>0</td>\n",
       "      <td>0</td>\n",
       "      <td>0</td>\n",
       "      <td>0.00</td>\n",
       "      <td>0</td>\n",
       "      <td>0</td>\n",
       "      <td>0</td>\n",
       "      <td>0</td>\n",
       "    </tr>\n",
       "    <tr>\n",
       "      <th>2017-02-26</th>\n",
       "      <td>SKU1</td>\n",
       "      <td>26789</td>\n",
       "      <td>0.0</td>\n",
       "      <td>1</td>\n",
       "      <td>0</td>\n",
       "      <td>1</td>\n",
       "      <td>0.00</td>\n",
       "      <td>0</td>\n",
       "      <td>0</td>\n",
       "      <td>0</td>\n",
       "      <td>0</td>\n",
       "    </tr>\n",
       "    <tr>\n",
       "      <th>2017-03-05</th>\n",
       "      <td>SKU1</td>\n",
       "      <td>41999</td>\n",
       "      <td>17.0</td>\n",
       "      <td>0</td>\n",
       "      <td>0</td>\n",
       "      <td>0</td>\n",
       "      <td>0.00</td>\n",
       "      <td>0</td>\n",
       "      <td>0</td>\n",
       "      <td>0</td>\n",
       "      <td>0</td>\n",
       "    </tr>\n",
       "    <tr>\n",
       "      <th>...</th>\n",
       "      <td>...</td>\n",
       "      <td>...</td>\n",
       "      <td>...</td>\n",
       "      <td>...</td>\n",
       "      <td>...</td>\n",
       "      <td>...</td>\n",
       "      <td>...</td>\n",
       "      <td>...</td>\n",
       "      <td>...</td>\n",
       "      <td>...</td>\n",
       "      <td>...</td>\n",
       "    </tr>\n",
       "    <tr>\n",
       "      <th>2020-10-04</th>\n",
       "      <td>SKU6</td>\n",
       "      <td>23072</td>\n",
       "      <td>44.0</td>\n",
       "      <td>1</td>\n",
       "      <td>0</td>\n",
       "      <td>1</td>\n",
       "      <td>-9.73</td>\n",
       "      <td>1</td>\n",
       "      <td>0</td>\n",
       "      <td>0</td>\n",
       "      <td>0</td>\n",
       "    </tr>\n",
       "    <tr>\n",
       "      <th>2020-10-11</th>\n",
       "      <td>SKU6</td>\n",
       "      <td>42044</td>\n",
       "      <td>44.0</td>\n",
       "      <td>0</td>\n",
       "      <td>1</td>\n",
       "      <td>0</td>\n",
       "      <td>-7.39</td>\n",
       "      <td>1</td>\n",
       "      <td>0</td>\n",
       "      <td>0</td>\n",
       "      <td>0</td>\n",
       "    </tr>\n",
       "    <tr>\n",
       "      <th>2020-10-18</th>\n",
       "      <td>SKU6</td>\n",
       "      <td>96619</td>\n",
       "      <td>54.0</td>\n",
       "      <td>0</td>\n",
       "      <td>1</td>\n",
       "      <td>0</td>\n",
       "      <td>-7.56</td>\n",
       "      <td>1</td>\n",
       "      <td>0</td>\n",
       "      <td>0</td>\n",
       "      <td>0</td>\n",
       "    </tr>\n",
       "    <tr>\n",
       "      <th>2020-11-08</th>\n",
       "      <td>SKU6</td>\n",
       "      <td>26445</td>\n",
       "      <td>44.0</td>\n",
       "      <td>1</td>\n",
       "      <td>0</td>\n",
       "      <td>1</td>\n",
       "      <td>-5.95</td>\n",
       "      <td>1</td>\n",
       "      <td>0</td>\n",
       "      <td>0</td>\n",
       "      <td>0</td>\n",
       "    </tr>\n",
       "    <tr>\n",
       "      <th>2020-11-15</th>\n",
       "      <td>SKU6</td>\n",
       "      <td>26414</td>\n",
       "      <td>44.0</td>\n",
       "      <td>0</td>\n",
       "      <td>0</td>\n",
       "      <td>0</td>\n",
       "      <td>-7.20</td>\n",
       "      <td>1</td>\n",
       "      <td>0</td>\n",
       "      <td>0</td>\n",
       "      <td>0</td>\n",
       "    </tr>\n",
       "  </tbody>\n",
       "</table>\n",
       "<p>1172 rows × 11 columns</p>\n",
       "</div>"
      ],
      "text/plain": [
       "           Product  Sales  Price Discount (%)  In-Store Promo  \\\n",
       "date                                                            \n",
       "2017-02-05    SKU1  27750                 0.0               0   \n",
       "2017-02-12    SKU1  29023                 0.0               1   \n",
       "2017-02-19    SKU1  45630                17.0               0   \n",
       "2017-02-26    SKU1  26789                 0.0               1   \n",
       "2017-03-05    SKU1  41999                17.0               0   \n",
       "...            ...    ...                 ...             ...   \n",
       "2020-10-04    SKU6  23072                44.0               1   \n",
       "2020-10-11    SKU6  42044                44.0               0   \n",
       "2020-10-18    SKU6  96619                54.0               0   \n",
       "2020-11-08    SKU6  26445                44.0               1   \n",
       "2020-11-15    SKU6  26414                44.0               0   \n",
       "\n",
       "            Catalogue Promo  Store End Promo  Google_Mobility  Covid_Flag  \\\n",
       "date                                                                        \n",
       "2017-02-05                0                0             0.00           0   \n",
       "2017-02-12                0                1             0.00           0   \n",
       "2017-02-19                0                0             0.00           0   \n",
       "2017-02-26                0                1             0.00           0   \n",
       "2017-03-05                0                0             0.00           0   \n",
       "...                     ...              ...              ...         ...   \n",
       "2020-10-04                0                1            -9.73           1   \n",
       "2020-10-11                1                0            -7.39           1   \n",
       "2020-10-18                1                0            -7.56           1   \n",
       "2020-11-08                0                1            -5.95           1   \n",
       "2020-11-15                0                0            -7.20           1   \n",
       "\n",
       "            V_DAY  EASTER  CHRISTMAS  \n",
       "date                                  \n",
       "2017-02-05      0       0          0  \n",
       "2017-02-12      1       0          0  \n",
       "2017-02-19      0       0          0  \n",
       "2017-02-26      0       0          0  \n",
       "2017-03-05      0       0          0  \n",
       "...           ...     ...        ...  \n",
       "2020-10-04      0       0          0  \n",
       "2020-10-11      0       0          0  \n",
       "2020-10-18      0       0          0  \n",
       "2020-11-08      0       0          0  \n",
       "2020-11-15      0       0          0  \n",
       "\n",
       "[1172 rows x 11 columns]"
      ]
     },
     "execution_count": 335,
     "metadata": {},
     "output_type": "execute_result"
    }
   ],
   "source": [
    "df = df.set_index('date')\n",
    "df"
   ]
  },
  {
   "cell_type": "code",
   "execution_count": 336,
   "id": "46eee7c4",
   "metadata": {
    "execution": {
     "iopub.execute_input": "2023-10-16T02:59:53.368551Z",
     "iopub.status.busy": "2023-10-16T02:59:53.368247Z",
     "iopub.status.idle": "2023-10-16T02:59:53.375300Z",
     "shell.execute_reply": "2023-10-16T02:59:53.373939Z"
    },
    "papermill": {
     "duration": 0.022534,
     "end_time": "2023-10-16T02:59:53.377424",
     "exception": false,
     "start_time": "2023-10-16T02:59:53.354890",
     "status": "completed"
    },
    "tags": []
   },
   "outputs": [
    {
     "data": {
      "text/plain": [
       "204"
      ]
     },
     "execution_count": 336,
     "metadata": {},
     "output_type": "execute_result"
    }
   ],
   "source": [
    "df.index.nunique()"
   ]
  },
  {
   "cell_type": "markdown",
   "id": "757f393f",
   "metadata": {
    "papermill": {
     "duration": 0.011937,
     "end_time": "2023-10-16T02:59:53.401503",
     "exception": false,
     "start_time": "2023-10-16T02:59:53.389566",
     "status": "completed"
    },
    "tags": []
   },
   "source": [
    "Knowing that all the dates are accounted for, we can now begin feature creation from the date column:"
   ]
  },
  {
   "cell_type": "code",
   "execution_count": 337,
   "id": "6adf9d82",
   "metadata": {
    "execution": {
     "iopub.execute_input": "2023-10-16T02:59:53.428305Z",
     "iopub.status.busy": "2023-10-16T02:59:53.427407Z",
     "iopub.status.idle": "2023-10-16T02:59:53.451048Z",
     "shell.execute_reply": "2023-10-16T02:59:53.449451Z"
    },
    "papermill": {
     "duration": 0.039562,
     "end_time": "2023-10-16T02:59:53.453463",
     "exception": false,
     "start_time": "2023-10-16T02:59:53.413901",
     "status": "completed"
    },
    "tags": []
   },
   "outputs": [
    {
     "data": {
      "text/html": [
       "<div>\n",
       "<style scoped>\n",
       "    .dataframe tbody tr th:only-of-type {\n",
       "        vertical-align: middle;\n",
       "    }\n",
       "\n",
       "    .dataframe tbody tr th {\n",
       "        vertical-align: top;\n",
       "    }\n",
       "\n",
       "    .dataframe thead th {\n",
       "        text-align: right;\n",
       "    }\n",
       "</style>\n",
       "<table border=\"1\" class=\"dataframe\">\n",
       "  <thead>\n",
       "    <tr style=\"text-align: right;\">\n",
       "      <th></th>\n",
       "      <th>Product</th>\n",
       "      <th>Sales</th>\n",
       "      <th>Price Discount (%)</th>\n",
       "      <th>In-Store Promo</th>\n",
       "      <th>Catalogue Promo</th>\n",
       "      <th>Store End Promo</th>\n",
       "      <th>Google_Mobility</th>\n",
       "      <th>Covid_Flag</th>\n",
       "      <th>V_DAY</th>\n",
       "      <th>EASTER</th>\n",
       "      <th>CHRISTMAS</th>\n",
       "      <th>quarter</th>\n",
       "      <th>month</th>\n",
       "      <th>year</th>\n",
       "      <th>dayofyear</th>\n",
       "      <th>date</th>\n",
       "    </tr>\n",
       "    <tr>\n",
       "      <th>date</th>\n",
       "      <th></th>\n",
       "      <th></th>\n",
       "      <th></th>\n",
       "      <th></th>\n",
       "      <th></th>\n",
       "      <th></th>\n",
       "      <th></th>\n",
       "      <th></th>\n",
       "      <th></th>\n",
       "      <th></th>\n",
       "      <th></th>\n",
       "      <th></th>\n",
       "      <th></th>\n",
       "      <th></th>\n",
       "      <th></th>\n",
       "      <th></th>\n",
       "    </tr>\n",
       "  </thead>\n",
       "  <tbody>\n",
       "    <tr>\n",
       "      <th>2017-02-05</th>\n",
       "      <td>SKU1</td>\n",
       "      <td>27750</td>\n",
       "      <td>0.0</td>\n",
       "      <td>0</td>\n",
       "      <td>0</td>\n",
       "      <td>0</td>\n",
       "      <td>0.00</td>\n",
       "      <td>0</td>\n",
       "      <td>0</td>\n",
       "      <td>0</td>\n",
       "      <td>0</td>\n",
       "      <td>1</td>\n",
       "      <td>2</td>\n",
       "      <td>2017</td>\n",
       "      <td>36</td>\n",
       "      <td>2017-02-05</td>\n",
       "    </tr>\n",
       "    <tr>\n",
       "      <th>2017-02-12</th>\n",
       "      <td>SKU1</td>\n",
       "      <td>29023</td>\n",
       "      <td>0.0</td>\n",
       "      <td>1</td>\n",
       "      <td>0</td>\n",
       "      <td>1</td>\n",
       "      <td>0.00</td>\n",
       "      <td>0</td>\n",
       "      <td>1</td>\n",
       "      <td>0</td>\n",
       "      <td>0</td>\n",
       "      <td>1</td>\n",
       "      <td>2</td>\n",
       "      <td>2017</td>\n",
       "      <td>43</td>\n",
       "      <td>2017-02-12</td>\n",
       "    </tr>\n",
       "    <tr>\n",
       "      <th>2017-02-19</th>\n",
       "      <td>SKU1</td>\n",
       "      <td>45630</td>\n",
       "      <td>17.0</td>\n",
       "      <td>0</td>\n",
       "      <td>0</td>\n",
       "      <td>0</td>\n",
       "      <td>0.00</td>\n",
       "      <td>0</td>\n",
       "      <td>0</td>\n",
       "      <td>0</td>\n",
       "      <td>0</td>\n",
       "      <td>1</td>\n",
       "      <td>2</td>\n",
       "      <td>2017</td>\n",
       "      <td>50</td>\n",
       "      <td>2017-02-19</td>\n",
       "    </tr>\n",
       "    <tr>\n",
       "      <th>2017-02-26</th>\n",
       "      <td>SKU1</td>\n",
       "      <td>26789</td>\n",
       "      <td>0.0</td>\n",
       "      <td>1</td>\n",
       "      <td>0</td>\n",
       "      <td>1</td>\n",
       "      <td>0.00</td>\n",
       "      <td>0</td>\n",
       "      <td>0</td>\n",
       "      <td>0</td>\n",
       "      <td>0</td>\n",
       "      <td>1</td>\n",
       "      <td>2</td>\n",
       "      <td>2017</td>\n",
       "      <td>57</td>\n",
       "      <td>2017-02-26</td>\n",
       "    </tr>\n",
       "    <tr>\n",
       "      <th>2017-03-05</th>\n",
       "      <td>SKU1</td>\n",
       "      <td>41999</td>\n",
       "      <td>17.0</td>\n",
       "      <td>0</td>\n",
       "      <td>0</td>\n",
       "      <td>0</td>\n",
       "      <td>0.00</td>\n",
       "      <td>0</td>\n",
       "      <td>0</td>\n",
       "      <td>0</td>\n",
       "      <td>0</td>\n",
       "      <td>1</td>\n",
       "      <td>3</td>\n",
       "      <td>2017</td>\n",
       "      <td>64</td>\n",
       "      <td>2017-03-05</td>\n",
       "    </tr>\n",
       "    <tr>\n",
       "      <th>...</th>\n",
       "      <td>...</td>\n",
       "      <td>...</td>\n",
       "      <td>...</td>\n",
       "      <td>...</td>\n",
       "      <td>...</td>\n",
       "      <td>...</td>\n",
       "      <td>...</td>\n",
       "      <td>...</td>\n",
       "      <td>...</td>\n",
       "      <td>...</td>\n",
       "      <td>...</td>\n",
       "      <td>...</td>\n",
       "      <td>...</td>\n",
       "      <td>...</td>\n",
       "      <td>...</td>\n",
       "      <td>...</td>\n",
       "    </tr>\n",
       "    <tr>\n",
       "      <th>2020-10-04</th>\n",
       "      <td>SKU6</td>\n",
       "      <td>23072</td>\n",
       "      <td>44.0</td>\n",
       "      <td>1</td>\n",
       "      <td>0</td>\n",
       "      <td>1</td>\n",
       "      <td>-9.73</td>\n",
       "      <td>1</td>\n",
       "      <td>0</td>\n",
       "      <td>0</td>\n",
       "      <td>0</td>\n",
       "      <td>4</td>\n",
       "      <td>10</td>\n",
       "      <td>2020</td>\n",
       "      <td>278</td>\n",
       "      <td>2020-10-04</td>\n",
       "    </tr>\n",
       "    <tr>\n",
       "      <th>2020-10-11</th>\n",
       "      <td>SKU6</td>\n",
       "      <td>42044</td>\n",
       "      <td>44.0</td>\n",
       "      <td>0</td>\n",
       "      <td>1</td>\n",
       "      <td>0</td>\n",
       "      <td>-7.39</td>\n",
       "      <td>1</td>\n",
       "      <td>0</td>\n",
       "      <td>0</td>\n",
       "      <td>0</td>\n",
       "      <td>4</td>\n",
       "      <td>10</td>\n",
       "      <td>2020</td>\n",
       "      <td>285</td>\n",
       "      <td>2020-10-11</td>\n",
       "    </tr>\n",
       "    <tr>\n",
       "      <th>2020-10-18</th>\n",
       "      <td>SKU6</td>\n",
       "      <td>96619</td>\n",
       "      <td>54.0</td>\n",
       "      <td>0</td>\n",
       "      <td>1</td>\n",
       "      <td>0</td>\n",
       "      <td>-7.56</td>\n",
       "      <td>1</td>\n",
       "      <td>0</td>\n",
       "      <td>0</td>\n",
       "      <td>0</td>\n",
       "      <td>4</td>\n",
       "      <td>10</td>\n",
       "      <td>2020</td>\n",
       "      <td>292</td>\n",
       "      <td>2020-10-18</td>\n",
       "    </tr>\n",
       "    <tr>\n",
       "      <th>2020-11-08</th>\n",
       "      <td>SKU6</td>\n",
       "      <td>26445</td>\n",
       "      <td>44.0</td>\n",
       "      <td>1</td>\n",
       "      <td>0</td>\n",
       "      <td>1</td>\n",
       "      <td>-5.95</td>\n",
       "      <td>1</td>\n",
       "      <td>0</td>\n",
       "      <td>0</td>\n",
       "      <td>0</td>\n",
       "      <td>4</td>\n",
       "      <td>11</td>\n",
       "      <td>2020</td>\n",
       "      <td>313</td>\n",
       "      <td>2020-11-08</td>\n",
       "    </tr>\n",
       "    <tr>\n",
       "      <th>2020-11-15</th>\n",
       "      <td>SKU6</td>\n",
       "      <td>26414</td>\n",
       "      <td>44.0</td>\n",
       "      <td>0</td>\n",
       "      <td>0</td>\n",
       "      <td>0</td>\n",
       "      <td>-7.20</td>\n",
       "      <td>1</td>\n",
       "      <td>0</td>\n",
       "      <td>0</td>\n",
       "      <td>0</td>\n",
       "      <td>4</td>\n",
       "      <td>11</td>\n",
       "      <td>2020</td>\n",
       "      <td>320</td>\n",
       "      <td>2020-11-15</td>\n",
       "    </tr>\n",
       "  </tbody>\n",
       "</table>\n",
       "<p>1172 rows × 16 columns</p>\n",
       "</div>"
      ],
      "text/plain": [
       "           Product  Sales  Price Discount (%)  In-Store Promo  \\\n",
       "date                                                            \n",
       "2017-02-05    SKU1  27750                 0.0               0   \n",
       "2017-02-12    SKU1  29023                 0.0               1   \n",
       "2017-02-19    SKU1  45630                17.0               0   \n",
       "2017-02-26    SKU1  26789                 0.0               1   \n",
       "2017-03-05    SKU1  41999                17.0               0   \n",
       "...            ...    ...                 ...             ...   \n",
       "2020-10-04    SKU6  23072                44.0               1   \n",
       "2020-10-11    SKU6  42044                44.0               0   \n",
       "2020-10-18    SKU6  96619                54.0               0   \n",
       "2020-11-08    SKU6  26445                44.0               1   \n",
       "2020-11-15    SKU6  26414                44.0               0   \n",
       "\n",
       "            Catalogue Promo  Store End Promo  Google_Mobility  Covid_Flag  \\\n",
       "date                                                                        \n",
       "2017-02-05                0                0             0.00           0   \n",
       "2017-02-12                0                1             0.00           0   \n",
       "2017-02-19                0                0             0.00           0   \n",
       "2017-02-26                0                1             0.00           0   \n",
       "2017-03-05                0                0             0.00           0   \n",
       "...                     ...              ...              ...         ...   \n",
       "2020-10-04                0                1            -9.73           1   \n",
       "2020-10-11                1                0            -7.39           1   \n",
       "2020-10-18                1                0            -7.56           1   \n",
       "2020-11-08                0                1            -5.95           1   \n",
       "2020-11-15                0                0            -7.20           1   \n",
       "\n",
       "            V_DAY  EASTER  CHRISTMAS  quarter  month  year  dayofyear  \\\n",
       "date                                                                    \n",
       "2017-02-05      0       0          0        1      2  2017         36   \n",
       "2017-02-12      1       0          0        1      2  2017         43   \n",
       "2017-02-19      0       0          0        1      2  2017         50   \n",
       "2017-02-26      0       0          0        1      2  2017         57   \n",
       "2017-03-05      0       0          0        1      3  2017         64   \n",
       "...           ...     ...        ...      ...    ...   ...        ...   \n",
       "2020-10-04      0       0          0        4     10  2020        278   \n",
       "2020-10-11      0       0          0        4     10  2020        285   \n",
       "2020-10-18      0       0          0        4     10  2020        292   \n",
       "2020-11-08      0       0          0        4     11  2020        313   \n",
       "2020-11-15      0       0          0        4     11  2020        320   \n",
       "\n",
       "                  date  \n",
       "date                    \n",
       "2017-02-05  2017-02-05  \n",
       "2017-02-12  2017-02-12  \n",
       "2017-02-19  2017-02-19  \n",
       "2017-02-26  2017-02-26  \n",
       "2017-03-05  2017-03-05  \n",
       "...                ...  \n",
       "2020-10-04  2020-10-04  \n",
       "2020-10-11  2020-10-11  \n",
       "2020-10-18  2020-10-18  \n",
       "2020-11-08  2020-11-08  \n",
       "2020-11-15  2020-11-15  \n",
       "\n",
       "[1172 rows x 16 columns]"
      ]
     },
     "execution_count": 337,
     "metadata": {},
     "output_type": "execute_result"
    }
   ],
   "source": [
    "def create_features(df):\n",
    "    \n",
    "    df = df.copy()\n",
    "    df['quarter'] = df.index.quarter\n",
    "    df['month'] = df.index.month\n",
    "    df['year'] = df.index.year\n",
    "    df['dayofyear'] = df.index.dayofyear\n",
    "    df['date'] = df.index.date # note that this will be in YYYY-mm-dd format\n",
    "    return df\n",
    "\n",
    "dfe = create_features(df)\n",
    "dfe"
   ]
  },
  {
   "cell_type": "code",
   "execution_count": 338,
   "id": "893892b2",
   "metadata": {
    "execution": {
     "iopub.execute_input": "2023-10-16T02:59:53.538332Z",
     "iopub.status.busy": "2023-10-16T02:59:53.537989Z",
     "iopub.status.idle": "2023-10-16T02:59:53.544592Z",
     "shell.execute_reply": "2023-10-16T02:59:53.543826Z"
    },
    "papermill": {
     "duration": 0.022595,
     "end_time": "2023-10-16T02:59:53.546829",
     "exception": false,
     "start_time": "2023-10-16T02:59:53.524234",
     "status": "completed"
    },
    "tags": []
   },
   "outputs": [
    {
     "data": {
      "text/plain": [
       "array(['SKU1', 'SKU2', 'SKU3', 'SKU4', 'SKU5', 'SKU6'], dtype=object)"
      ]
     },
     "execution_count": 338,
     "metadata": {},
     "output_type": "execute_result"
    }
   ],
   "source": [
    "# seeing what we're working with\n",
    "\n",
    "dfe.Product.unique()"
   ]
  },
  {
   "cell_type": "code",
   "execution_count": 339,
   "id": "73a4a694",
   "metadata": {
    "execution": {
     "iopub.execute_input": "2023-10-16T02:59:53.574356Z",
     "iopub.status.busy": "2023-10-16T02:59:53.574057Z",
     "iopub.status.idle": "2023-10-16T02:59:53.582927Z",
     "shell.execute_reply": "2023-10-16T02:59:53.581864Z"
    },
    "papermill": {
     "duration": 0.024389,
     "end_time": "2023-10-16T02:59:53.584713",
     "exception": false,
     "start_time": "2023-10-16T02:59:53.560324",
     "status": "completed"
    },
    "tags": []
   },
   "outputs": [
    {
     "data": {
      "text/plain": [
       "Product\n",
       "SKU1    195\n",
       "SKU2    204\n",
       "SKU3    189\n",
       "SKU4    204\n",
       "SKU5    204\n",
       "SKU6    176\n",
       "Name: date, dtype: int64"
      ]
     },
     "execution_count": 339,
     "metadata": {},
     "output_type": "execute_result"
    }
   ],
   "source": [
    "dfe.groupby('Product')['date'].nunique()"
   ]
  },
  {
   "cell_type": "markdown",
   "id": "c2addb41",
   "metadata": {
    "papermill": {
     "duration": 0.011794,
     "end_time": "2023-10-16T02:59:53.633831",
     "exception": false,
     "start_time": "2023-10-16T02:59:53.622037",
     "status": "completed"
    },
    "tags": []
   },
   "source": [
    "We'll change the Product codes to integers"
   ]
  },
  {
   "cell_type": "code",
   "execution_count": 340,
   "id": "6fe58b2e",
   "metadata": {
    "execution": {
     "iopub.execute_input": "2023-10-16T02:59:53.661090Z",
     "iopub.status.busy": "2023-10-16T02:59:53.659982Z",
     "iopub.status.idle": "2023-10-16T02:59:53.669060Z",
     "shell.execute_reply": "2023-10-16T02:59:53.668319Z"
    },
    "papermill": {
     "duration": 0.02495,
     "end_time": "2023-10-16T02:59:53.671329",
     "exception": false,
     "start_time": "2023-10-16T02:59:53.646379",
     "status": "completed"
    },
    "tags": []
   },
   "outputs": [
    {
     "data": {
      "text/plain": [
       "date\n",
       "2017-02-05    1\n",
       "2017-02-12    1\n",
       "2017-02-19    1\n",
       "2017-02-26    1\n",
       "2017-03-05    1\n",
       "             ..\n",
       "2020-10-04    6\n",
       "2020-10-11    6\n",
       "2020-10-18    6\n",
       "2020-11-08    6\n",
       "2020-11-15    6\n",
       "Name: Product, Length: 1172, dtype: int64"
      ]
     },
     "execution_count": 340,
     "metadata": {},
     "output_type": "execute_result"
    }
   ],
   "source": [
    "dfe['Product'] = dfe['Product'].str.replace('SKU','').astype(int)\n",
    "dfe['Product']"
   ]
  },
  {
   "cell_type": "code",
   "execution_count": 341,
   "id": "ecc21df9",
   "metadata": {
    "execution": {
     "iopub.execute_input": "2023-10-16T02:59:53.696973Z",
     "iopub.status.busy": "2023-10-16T02:59:53.696623Z",
     "iopub.status.idle": "2023-10-16T02:59:53.710715Z",
     "shell.execute_reply": "2023-10-16T02:59:53.709925Z"
    },
    "papermill": {
     "duration": 0.029072,
     "end_time": "2023-10-16T02:59:53.712730",
     "exception": false,
     "start_time": "2023-10-16T02:59:53.683658",
     "status": "completed"
    },
    "tags": []
   },
   "outputs": [
    {
     "name": "stdout",
     "output_type": "stream",
     "text": [
      "                     Product     Sales  Price Discount (%)  In-Store Promo  \\\n",
      "Product             1.000000 -0.190224            0.272661        0.006526   \n",
      "Sales              -0.190224  1.000000            0.378029        0.238575   \n",
      "Price Discount (%)  0.272661  0.378029            1.000000        0.198749   \n",
      "In-Store Promo      0.006526  0.238575            0.198749        1.000000   \n",
      "Catalogue Promo     0.122652 -0.155845           -0.069161       -0.483776   \n",
      "Store End Promo     0.084565  0.202593            0.192391        0.358685   \n",
      "Google_Mobility     0.002014  0.037620           -0.228361        0.052228   \n",
      "Covid_Flag         -0.010555 -0.082815            0.299863       -0.021963   \n",
      "V_DAY               0.004687 -0.025064           -0.047809        0.017311   \n",
      "EASTER              0.002926  0.016532            0.007866        0.023471   \n",
      "CHRISTMAS          -0.006255 -0.025400           -0.005835        0.017311   \n",
      "quarter            -0.013939  0.024798            0.039523        0.077616   \n",
      "month              -0.013073  0.024777            0.042053        0.082299   \n",
      "year               -0.004216 -0.072845            0.268777       -0.024784   \n",
      "dayofyear          -0.013120  0.023418            0.046244        0.085094   \n",
      "\n",
      "                    Catalogue Promo  Store End Promo  Google_Mobility  \\\n",
      "Product                    0.122652         0.084565         0.002014   \n",
      "Sales                     -0.155845         0.202593         0.037620   \n",
      "Price Discount (%)        -0.069161         0.192391        -0.228361   \n",
      "In-Store Promo            -0.483776         0.358685         0.052228   \n",
      "Catalogue Promo            1.000000         0.125368         0.077274   \n",
      "Store End Promo            0.125368         1.000000         0.079234   \n",
      "Google_Mobility            0.077274         0.079234         1.000000   \n",
      "Covid_Flag                -0.098915        -0.070982        -0.758790   \n",
      "V_DAY                     -0.044101         0.016776         0.076038   \n",
      "EASTER                    -0.046345        -0.064415        -0.108190   \n",
      "CHRISTMAS                  0.045737         0.003747         0.004891   \n",
      "quarter                    0.042435         0.043976        -0.033673   \n",
      "month                      0.029097         0.041316        -0.020272   \n",
      "year                      -0.046761        -0.071594        -0.549999   \n",
      "dayofyear                  0.022825         0.039305        -0.026871   \n",
      "\n",
      "                    Covid_Flag     V_DAY    EASTER  CHRISTMAS   quarter  \\\n",
      "Product              -0.010555  0.004687  0.002926  -0.006255 -0.013939   \n",
      "Sales                -0.082815 -0.025064  0.016532  -0.025400  0.024798   \n",
      "Price Discount (%)    0.299863 -0.047809  0.007866  -0.005835  0.039523   \n",
      "In-Store Promo       -0.021963  0.017311  0.023471   0.017311  0.077616   \n",
      "Catalogue Promo      -0.098915 -0.044101 -0.046345   0.045737  0.042435   \n",
      "Store End Promo      -0.070982  0.016776 -0.064415   0.003747  0.043976   \n",
      "Google_Mobility      -0.758790  0.076038 -0.108190   0.004891 -0.033673   \n",
      "Covid_Flag            1.000000 -0.004363  0.006739  -0.004363  0.049624   \n",
      "V_DAY                -0.004363  1.000000 -0.020457  -0.020017 -0.196784   \n",
      "EASTER                0.006739 -0.020457  1.000000  -0.020457 -0.069652   \n",
      "CHRISTMAS            -0.004363 -0.020017 -0.020457   1.000000  0.189101   \n",
      "quarter               0.049624 -0.196784 -0.069652   0.189101  1.000000   \n",
      "month                 0.060109 -0.193399 -0.112043   0.225418  0.970268   \n",
      "year                  0.724836 -0.012355 -0.004118  -0.012355 -0.066560   \n",
      "dayofyear             0.064422 -0.195805 -0.121380   0.211611  0.967115   \n",
      "\n",
      "                       month      year  dayofyear  \n",
      "Product            -0.013073 -0.004216  -0.013120  \n",
      "Sales               0.024777 -0.072845   0.023418  \n",
      "Price Discount (%)  0.042053  0.268777   0.046244  \n",
      "In-Store Promo      0.082299 -0.024784   0.085094  \n",
      "Catalogue Promo     0.029097 -0.046761   0.022825  \n",
      "Store End Promo     0.041316 -0.071594   0.039305  \n",
      "Google_Mobility    -0.020272 -0.549999  -0.026871  \n",
      "Covid_Flag          0.060109  0.724836   0.064422  \n",
      "V_DAY              -0.193399 -0.012355  -0.195805  \n",
      "EASTER             -0.112043 -0.004118  -0.121380  \n",
      "CHRISTMAS           0.225418 -0.012355   0.211611  \n",
      "quarter             0.970268 -0.066560   0.967115  \n",
      "month               1.000000 -0.064912   0.996368  \n",
      "year               -0.064912  1.000000  -0.062547  \n",
      "dayofyear           0.996368 -0.062547   1.000000  \n"
     ]
    }
   ],
   "source": [
    "\n",
    "correlation_stat = dfe.drop(['date'], axis = 1)\n",
    "\n",
    "print(correlation_stat.corr())"
   ]
  },
  {
   "cell_type": "code",
   "execution_count": 342,
   "id": "2f226bd0",
   "metadata": {
    "execution": {
     "iopub.execute_input": "2023-10-16T02:59:53.740768Z",
     "iopub.status.busy": "2023-10-16T02:59:53.740424Z",
     "iopub.status.idle": "2023-10-16T02:59:54.047072Z",
     "shell.execute_reply": "2023-10-16T02:59:54.045885Z"
    },
    "papermill": {
     "duration": 0.323023,
     "end_time": "2023-10-16T02:59:54.049199",
     "exception": false,
     "start_time": "2023-10-16T02:59:53.726176",
     "status": "completed"
    },
    "tags": []
   },
   "outputs": [
    {
     "data": {
      "image/png": "[encoded data removed]",
      "text/plain": [
       "<Figure size 1200x800 with 2 Axes>"
      ]
     },
     "metadata": {},
     "output_type": "display_data"
    }
   ],
   "source": [
    "plt.figure(figsize=(12, 8))\n",
    "dataplot = sns.heatmap(correlation_stat.corr(), annot=True, vmin=-1, vmax=1, cmap = 'crest')\n",
    "plt.title('Correlation Heatmap')\n",
    "plt.show()"
   ]
  },
  {
   "cell_type": "markdown",
   "id": "232f95cf",
   "metadata": {
    "papermill": {
     "duration": 0.014831,
     "end_time": "2023-10-16T02:59:54.078830",
     "exception": false,
     "start_time": "2023-10-16T02:59:54.063999",
     "status": "completed"
    },
    "tags": []
   },
   "source": [
    "We can see that most columns are fairly mild in terms of correlation. We will remove the V_DAY, EASTER, and CHRISTMAS boolean columns as they are only true for very few weeks in our timeframe, and since the newly created dayofyear column will take their place."
   ]
  },
  {
   "cell_type": "code",
   "execution_count": 343,
   "id": "c94e60f4",
   "metadata": {
    "execution": {
     "iopub.execute_input": "2023-10-16T02:59:54.107443Z",
     "iopub.status.busy": "2023-10-16T02:59:54.106894Z",
     "iopub.status.idle": "2023-10-16T02:59:54.113397Z",
     "shell.execute_reply": "2023-10-16T02:59:54.111854Z"
    },
    "papermill": {
     "duration": 0.023875,
     "end_time": "2023-10-16T02:59:54.115991",
     "exception": false,
     "start_time": "2023-10-16T02:59:54.092116",
     "status": "completed"
    },
    "tags": []
   },
   "outputs": [],
   "source": [
    "# removing columns\n",
    "\n",
    "dfe = dfe.drop(['V_DAY','EASTER','CHRISTMAS'], axis = 1)"
   ]
  },
  {
   "cell_type": "code",
   "execution_count": 344,
   "id": "92b82447",
   "metadata": {
    "execution": {
     "iopub.execute_input": "2023-10-16T02:59:54.146398Z",
     "iopub.status.busy": "2023-10-16T02:59:54.146068Z",
     "iopub.status.idle": "2023-10-16T02:59:54.158403Z",
     "shell.execute_reply": "2023-10-16T02:59:54.157046Z"
    },
    "papermill": {
     "duration": 0.03089,
     "end_time": "2023-10-16T02:59:54.160665",
     "exception": false,
     "start_time": "2023-10-16T02:59:54.129775",
     "status": "completed"
    },
    "tags": []
   },
   "outputs": [
    {
     "name": "stdout",
     "output_type": "stream",
     "text": [
      "<class 'pandas.core.frame.DataFrame'>\n",
      "DatetimeIndex: 1172 entries, 2017-02-05 to 2020-11-15\n",
      "Data columns (total 13 columns):\n",
      " #   Column              Non-Null Count  Dtype  \n",
      "---  ------              --------------  -----  \n",
      " 0   Product             1172 non-null   int64  \n",
      " 1   Sales               1172 non-null   int64  \n",
      " 2   Price Discount (%)  1172 non-null   float64\n",
      " 3   In-Store Promo      1172 non-null   int64  \n",
      " 4   Catalogue Promo     1172 non-null   int64  \n",
      " 5   Store End Promo     1172 non-null   int64  \n",
      " 6   Google_Mobility     1172 non-null   float64\n",
      " 7   Covid_Flag          1172 non-null   int64  \n",
      " 8   quarter             1172 non-null   int32  \n",
      " 9   month               1172 non-null   int32  \n",
      " 10  year                1172 non-null   int32  \n",
      " 11  dayofyear           1172 non-null   int32  \n",
      " 12  date                1172 non-null   object \n",
      "dtypes: float64(2), int32(4), int64(6), object(1)\n",
      "memory usage: 142.2+ KB\n"
     ]
    }
   ],
   "source": [
    "dfe.info()"
   ]
  },
  {
   "cell_type": "code",
   "execution_count": 345,
   "id": "029e3e06",
   "metadata": {
    "execution": {
     "iopub.execute_input": "2023-10-16T02:59:54.188950Z",
     "iopub.status.busy": "2023-10-16T02:59:54.188581Z",
     "iopub.status.idle": "2023-10-16T02:59:54.195882Z",
     "shell.execute_reply": "2023-10-16T02:59:54.195205Z"
    },
    "papermill": {
     "duration": 0.023348,
     "end_time": "2023-10-16T02:59:54.197352",
     "exception": false,
     "start_time": "2023-10-16T02:59:54.174004",
     "status": "completed"
    },
    "tags": []
   },
   "outputs": [
    {
     "data": {
      "text/plain": [
       "array([1, 2, 3, 4, 5, 6])"
      ]
     },
     "execution_count": 345,
     "metadata": {},
     "output_type": "execute_result"
    }
   ],
   "source": [
    "# checking values for products after modifying to int\n",
    "\n",
    "dfe.Product.unique()"
   ]
  },
  {
   "cell_type": "markdown",
   "id": "34fea441",
   "metadata": {
    "papermill": {
     "duration": 0.012857,
     "end_time": "2023-10-16T02:59:54.224095",
     "exception": false,
     "start_time": "2023-10-16T02:59:54.211238",
     "status": "completed"
    },
    "tags": []
   },
   "source": [
    "### Initial Problem<a id='ip'></a>"
   ]
  },
  {
   "cell_type": "markdown",
   "id": "a3229eb6",
   "metadata": {
    "papermill": {
     "duration": 0.013045,
     "end_time": "2023-10-16T02:59:54.250185",
     "exception": false,
     "start_time": "2023-10-16T02:59:54.237140",
     "status": "completed"
    },
    "tags": []
   },
   "source": [
    "As of now, we will consider only one product for forecasting purpose"
   ]
  },
  {
   "cell_type": "code",
   "execution_count": 346,
   "id": "983362e0",
   "metadata": {
    "execution": {
     "iopub.execute_input": "2023-10-16T02:59:54.278099Z",
     "iopub.status.busy": "2023-10-16T02:59:54.277326Z",
     "iopub.status.idle": "2023-10-16T02:59:54.290702Z",
     "shell.execute_reply": "2023-10-16T02:59:54.288871Z"
    },
    "papermill": {
     "duration": 0.029276,
     "end_time": "2023-10-16T02:59:54.292611",
     "exception": false,
     "start_time": "2023-10-16T02:59:54.263335",
     "status": "completed"
    },
    "tags": []
   },
   "outputs": [
    {
     "name": "stdout",
     "output_type": "stream",
     "text": [
      "<class 'pandas.core.frame.DataFrame'>\n",
      "DatetimeIndex: 195 entries, 2017-02-05 to 2020-12-27\n",
      "Data columns (total 13 columns):\n",
      " #   Column              Non-Null Count  Dtype  \n",
      "---  ------              --------------  -----  \n",
      " 0   Product             195 non-null    int64  \n",
      " 1   Sales               195 non-null    int64  \n",
      " 2   Price Discount (%)  195 non-null    float64\n",
      " 3   In-Store Promo      195 non-null    int64  \n",
      " 4   Catalogue Promo     195 non-null    int64  \n",
      " 5   Store End Promo     195 non-null    int64  \n",
      " 6   Google_Mobility     195 non-null    float64\n",
      " 7   Covid_Flag          195 non-null    int64  \n",
      " 8   quarter             195 non-null    int32  \n",
      " 9   month               195 non-null    int32  \n",
      " 10  year                195 non-null    int32  \n",
      " 11  dayofyear           195 non-null    int32  \n",
      " 12  date                195 non-null    object \n",
      "dtypes: float64(2), int32(4), int64(6), object(1)\n",
      "memory usage: 18.3+ KB\n"
     ]
    }
   ],
   "source": [
    "# removing all other entries except for SKU1\n",
    "\n",
    "dfe = dfe[dfe['Product'] == 1]\n",
    "dfe.info()"
   ]
  },
  {
   "cell_type": "markdown",
   "id": "343d7d9d",
   "metadata": {
    "papermill": {
     "duration": 0.01403,
     "end_time": "2023-10-16T02:59:54.322105",
     "exception": false,
     "start_time": "2023-10-16T02:59:54.308075",
     "status": "completed"
    },
    "tags": []
   },
   "source": [
    "We will evaluate year 2020's Q3 and Q4, but as several of the Product codes (including SKU1) abruptly end their sales data on __November 15th, 2020__, so we'll cut the forecast to that date."
   ]
  },
  {
   "cell_type": "code",
   "execution_count": 347,
   "id": "5f5d632a",
   "metadata": {
    "execution": {
     "iopub.execute_input": "2023-10-16T02:59:54.350847Z",
     "iopub.status.busy": "2023-10-16T02:59:54.350219Z",
     "iopub.status.idle": "2023-10-16T02:59:54.667448Z",
     "shell.execute_reply": "2023-10-16T02:59:54.666159Z"
    },
    "papermill": {
     "duration": 0.333646,
     "end_time": "2023-10-16T02:59:54.669197",
     "exception": false,
     "start_time": "2023-10-16T02:59:54.335551",
     "status": "completed"
    },
    "tags": []
   },
   "outputs": [
    {
     "data": {
      "image/png": "[encoded data removed]",
      "text/plain": [
       "<Figure size 1500x500 with 1 Axes>"
      ]
     },
     "metadata": {},
     "output_type": "display_data"
    }
   ],
   "source": [
    "train_data = dfe.loc[(dfe.index >= '02-05-2017') & (dfe.index <= '05-31-2020')] # training\n",
    "test_data = dfe.loc[(dfe.index >= '06-01-2020') & (dfe.index <='11-15-2020')] # quarter 3-4\n",
    "\n",
    "# plotting\n",
    "\n",
    "plt.subplots(1,1, figsize= (15,5))\n",
    "train_data['Sales'].plot(color='#85adad')\n",
    "test_data['Sales'].plot(color='#006699')\n",
    "plt.ylabel('Sales')\n",
    "plt.xlabel('Date Range')\n",
    "location = 0\n",
    "legend_drawn_flag = True\n",
    "plt.title('Train and Test 1')\n",
    "plt.legend(['Training Data','Testing Data'], loc=0, frameon = legend_drawn_flag)\n",
    "plt.show();"
   ]
  },
  {
   "cell_type": "code",
   "execution_count": 348,
   "id": "459b206b",
   "metadata": {
    "execution": {
     "iopub.execute_input": "2023-10-16T02:59:54.698653Z",
     "iopub.status.busy": "2023-10-16T02:59:54.698301Z",
     "iopub.status.idle": "2023-10-16T02:59:54.703565Z",
     "shell.execute_reply": "2023-10-16T02:59:54.702880Z"
    },
    "papermill": {
     "duration": 0.021764,
     "end_time": "2023-10-16T02:59:54.705049",
     "exception": false,
     "start_time": "2023-10-16T02:59:54.683285",
     "status": "completed"
    },
    "tags": []
   },
   "outputs": [
    {
     "data": {
      "text/plain": [
       "Index(['Product', 'Sales', 'Price Discount (%)', 'In-Store Promo',\n",
       "       'Catalogue Promo', 'Store End Promo', 'Google_Mobility', 'Covid_Flag',\n",
       "       'quarter', 'month', 'year', 'dayofyear', 'date'],\n",
       "      dtype='object')"
      ]
     },
     "execution_count": 348,
     "metadata": {},
     "output_type": "execute_result"
    }
   ],
   "source": [
    "dfe.columns"
   ]
  },
  {
   "cell_type": "code",
   "execution_count": 349,
   "id": "e58ca7e3",
   "metadata": {
    "execution": {
     "iopub.execute_input": "2023-10-16T02:59:54.735595Z",
     "iopub.status.busy": "2023-10-16T02:59:54.735300Z",
     "iopub.status.idle": "2023-10-16T02:59:54.740038Z",
     "shell.execute_reply": "2023-10-16T02:59:54.738816Z"
    },
    "papermill": {
     "duration": 0.022431,
     "end_time": "2023-10-16T02:59:54.742079",
     "exception": false,
     "start_time": "2023-10-16T02:59:54.719648",
     "status": "completed"
    },
    "tags": []
   },
   "outputs": [],
   "source": [
    "# columns we will train on\n",
    "\n",
    "FEATURES = ['Product',\n",
    "            'Price Discount (%)',\n",
    "            'In-Store Promo', \n",
    "            'Catalogue Promo',\n",
    "            'Store End Promo', \n",
    "            'Google_Mobility',\n",
    "            'Covid_Flag', \n",
    "            'quarter',\n",
    "            'month',\n",
    "            'year',\n",
    "            'dayofyear']\n",
    "\n",
    "# column we are trying to predict\n",
    "\n",
    "TARGET = ['Sales']"
   ]
  },
  {
   "cell_type": "code",
   "execution_count": 350,
   "id": "2b828aa5",
   "metadata": {
    "execution": {
     "iopub.execute_input": "2023-10-16T02:59:54.772153Z",
     "iopub.status.busy": "2023-10-16T02:59:54.771810Z",
     "iopub.status.idle": "2023-10-16T02:59:54.779353Z",
     "shell.execute_reply": "2023-10-16T02:59:54.778138Z"
    },
    "papermill": {
     "duration": 0.025047,
     "end_time": "2023-10-16T02:59:54.781257",
     "exception": false,
     "start_time": "2023-10-16T02:59:54.756210",
     "status": "completed"
    },
    "tags": []
   },
   "outputs": [],
   "source": [
    "# training on training data\n",
    "\n",
    "X_train_one = train_data[FEATURES]\n",
    "y_train_one = train_data[TARGET]\n",
    "\n",
    "# testing on testing data\n",
    "\n",
    "X_test_one = test_data[FEATURES]\n",
    "y_test_one = test_data[TARGET]"
   ]
  },
  {
   "cell_type": "markdown",
   "id": "b963c78f",
   "metadata": {
    "papermill": {
     "duration": 0.013895,
     "end_time": "2023-10-16T02:59:54.809311",
     "exception": false,
     "start_time": "2023-10-16T02:59:54.795416",
     "status": "completed"
    },
    "tags": []
   },
   "source": [
    "### Random Forest Regression<a id='rf'></a>"
   ]
  },
  {
   "cell_type": "code",
   "execution_count": 351,
   "id": "5c4a8ab7",
   "metadata": {
    "execution": {
     "iopub.execute_input": "2023-10-16T02:59:54.839320Z",
     "iopub.status.busy": "2023-10-16T02:59:54.838971Z",
     "iopub.status.idle": "2023-10-16T02:59:55.582011Z",
     "shell.execute_reply": "2023-10-16T02:59:55.580512Z"
    },
    "papermill": {
     "duration": 0.76123,
     "end_time": "2023-10-16T02:59:55.584291",
     "exception": false,
     "start_time": "2023-10-16T02:59:54.823061",
     "status": "completed"
    },
    "tags": []
   },
   "outputs": [],
   "source": [
    "import warnings\n",
    "warnings.filterwarnings(\"ignore\")\n",
    "\n",
    "from sklearn.ensemble import RandomForestRegressor, GradientBoostingRegressor, AdaBoostRegressor, ExtraTreesRegressor\n",
    "\n",
    "random_forest = RandomForestRegressor(random_state = 42, n_estimators=100)\n",
    "random_forest.fit(X_train_one, y_train_one)\n",
    "\n",
    "Y_pred_forest = random_forest.predict(X_test_one)"
   ]
  },
  {
   "cell_type": "code",
   "execution_count": 352,
   "id": "50d80642",
   "metadata": {
    "execution": {
     "iopub.execute_input": "2023-10-16T02:59:55.618339Z",
     "iopub.status.busy": "2023-10-16T02:59:55.618017Z",
     "iopub.status.idle": "2023-10-16T02:59:55.628038Z",
     "shell.execute_reply": "2023-10-16T02:59:55.626817Z"
    },
    "papermill": {
     "duration": 0.029375,
     "end_time": "2023-10-16T02:59:55.630494",
     "exception": false,
     "start_time": "2023-10-16T02:59:55.601119",
     "status": "completed"
    },
    "tags": []
   },
   "outputs": [
    {
     "name": "stdout",
     "output_type": "stream",
     "text": [
      "Mean Absolute Percentage Error: 22.67 %.\n",
      "Mean Absolute Error: 7712.80125 .\n",
      "R-Squared: 0.6271168633054991 .\n"
     ]
    }
   ],
   "source": [
    "from sklearn.metrics import mean_absolute_percentage_error, mean_absolute_error, r2_score\n",
    "\n",
    "# variable creation\n",
    "\n",
    "forest_mape = round((mean_absolute_percentage_error(y_test_one, Y_pred_forest) * 100),3)\n",
    "forest_mae = mean_absolute_error(y_test_one, Y_pred_forest)\n",
    "forest_r2 = r2_score(y_test_one, Y_pred_forest)\n",
    "\n",
    "# printing results\n",
    "\n",
    "print('Mean Absolute Percentage Error:',forest_mape,'%.')\n",
    "print('Mean Absolute Error:',forest_mae,'.')\n",
    "print('R-Squared:',forest_r2,'.')"
   ]
  },
  {
   "cell_type": "markdown",
   "id": "a65d1f95",
   "metadata": {},
   "source": [
    "### Extra Tree Regressor<a id='etr'></a>"
   ]
  },
  {
   "cell_type": "code",
   "execution_count": 353,
   "id": "ad0666e6",
   "metadata": {},
   "outputs": [],
   "source": [
    "extratree_reg = ExtraTreesRegressor(random_state = 0, n_estimators=1000)\n",
    "extratree_reg.fit(X_train_one, y_train_one)\n",
    "\n",
    "Y_pred_extratree = extratree_reg.predict(X_test_one)"
   ]
  },
  {
   "cell_type": "code",
   "execution_count": 354,
   "id": "56f567d1",
   "metadata": {},
   "outputs": [
    {
     "name": "stdout",
     "output_type": "stream",
     "text": [
      "Mean Absolute Percentage Error: 18.394 %.\n",
      "Mean Absolute Error: 6372.840125 .\n",
      "R-Squared: 0.7524867772615889 .\n"
     ]
    }
   ],
   "source": [
    "# variable creation\n",
    "\n",
    "extratree_mape = round((mean_absolute_percentage_error(y_test_one, Y_pred_extratree) * 100),3)\n",
    "extratree_mae = mean_absolute_error(y_test_one, Y_pred_extratree)\n",
    "extratree_r2 = r2_score(y_test_one, Y_pred_extratree)\n",
    "\n",
    "# printing results\n",
    "\n",
    "print('Mean Absolute Percentage Error:',extratree_mape,'%.')\n",
    "print('Mean Absolute Error:',extratree_mae,'.')\n",
    "print('R-Squared:',extratree_r2,'.')"
   ]
  },
  {
   "cell_type": "code",
   "execution_count": 355,
   "id": "53afd3b4",
   "metadata": {},
   "outputs": [],
   "source": [
    "# feature importances, according to extra tree model\n",
    "\n",
    "fi = pd.DataFrame(data = extratree_reg.feature_importances_,\n",
    "                 index = extratree_reg.feature_names_in_,\n",
    "                 columns = ['importance'])"
   ]
  },
  {
   "cell_type": "code",
   "execution_count": 356,
   "id": "0c5c9361",
   "metadata": {},
   "outputs": [
    {
     "data": {
      "image/png": "[encoded data removed]",
      "text/plain": [
       "<Figure size 640x480 with 1 Axes>"
      ]
     },
     "metadata": {},
     "output_type": "display_data"
    }
   ],
   "source": [
    "fi.sort_values('importance').plot(kind = 'barh',\n",
    "                                 title = 'Feature Importances')\n",
    "plt.show()"
   ]
  },
  {
   "cell_type": "markdown",
   "id": "fd97d815",
   "metadata": {},
   "source": [
    "Here we can see that a Product having a discount is a large factor in sales demand, with dayofyear following behind."
   ]
  },
  {
   "cell_type": "code",
   "execution_count": 357,
   "id": "2f9cd407",
   "metadata": {},
   "outputs": [],
   "source": [
    "test_data['prediction'] = extratree_reg.predict(X_test_one)"
   ]
  },
  {
   "cell_type": "code",
   "execution_count": 358,
   "id": "49a67291",
   "metadata": {},
   "outputs": [],
   "source": [
    "# adding the predictions to our df\n",
    "\n",
    "dfe3 = dfe.merge(test_data[['prediction']],\n",
    "                 how = 'left',\n",
    "                 left_index = True,\n",
    "                 right_index = True)"
   ]
  },
  {
   "cell_type": "code",
   "execution_count": 359,
   "id": "db7bbe2b",
   "metadata": {},
   "outputs": [
    {
     "data": {
      "image/png": "[encoded data removed]",
      "text/plain": [
       "<Figure size 1500x500 with 1 Axes>"
      ]
     },
     "metadata": {},
     "output_type": "display_data"
    }
   ],
   "source": [
    "# plotting our predictions compared to the provided dataset values \n",
    "\n",
    "ax = dfe3[['Sales']].plot(figsize = (15,5))\n",
    "\n",
    "dfe3['prediction'].plot(ax = ax)\n",
    "plt.legend(['True Data','Predictions'])\n",
    "ax.set_title('Raw Data and Predictions (SKU1)')\n",
    "plt.show()"
   ]
  },
  {
   "cell_type": "markdown",
   "id": "811c597b",
   "metadata": {
    "papermill": {
     "duration": 0.015129,
     "end_time": "2023-10-16T02:59:55.660738",
     "exception": false,
     "start_time": "2023-10-16T02:59:55.645609",
     "status": "completed"
    },
    "tags": []
   },
   "source": [
    "### XGBoost Regression<a id='xgb'></a>"
   ]
  },
  {
   "cell_type": "code",
   "execution_count": 374,
   "id": "11943308",
   "metadata": {
    "execution": {
     "iopub.execute_input": "2023-10-16T02:59:55.691664Z",
     "iopub.status.busy": "2023-10-16T02:59:55.691291Z",
     "iopub.status.idle": "2023-10-16T02:59:56.647140Z",
     "shell.execute_reply": "2023-10-16T02:59:56.646338Z"
    },
    "papermill": {
     "duration": 0.973995,
     "end_time": "2023-10-16T02:59:56.649433",
     "exception": false,
     "start_time": "2023-10-16T02:59:55.675438",
     "status": "completed"
    },
    "tags": []
   },
   "outputs": [
    {
     "name": "stdout",
     "output_type": "stream",
     "text": [
      "[0]\tvalidation_0-rmse:17904.80344\tvalidation_1-rmse:17139.53324\n"
     ]
    },
    {
     "name": "stdout",
     "output_type": "stream",
     "text": [
      "[100]\tvalidation_0-rmse:16543.71015\tvalidation_1-rmse:15929.62999\n",
      "[200]\tvalidation_0-rmse:15324.37836\tvalidation_1-rmse:14898.31399\n",
      "[300]\tvalidation_0-rmse:14229.09930\tvalidation_1-rmse:14015.59555\n",
      "[400]\tvalidation_0-rmse:13242.88818\tvalidation_1-rmse:13270.69806\n",
      "[500]\tvalidation_0-rmse:12355.27265\tvalidation_1-rmse:12651.06277\n",
      "[600]\tvalidation_0-rmse:11560.59737\tvalidation_1-rmse:12201.86591\n",
      "[700]\tvalidation_0-rmse:10851.24886\tvalidation_1-rmse:11829.47271\n",
      "[800]\tvalidation_0-rmse:10215.99082\tvalidation_1-rmse:11525.71212\n",
      "[900]\tvalidation_0-rmse:9647.45517\tvalidation_1-rmse:11283.24319\n",
      "[1000]\tvalidation_0-rmse:9138.80253\tvalidation_1-rmse:11019.34340\n",
      "[1100]\tvalidation_0-rmse:8682.05942\tvalidation_1-rmse:10800.80220\n",
      "[1200]\tvalidation_0-rmse:8272.71701\tvalidation_1-rmse:10621.20700\n",
      "[1300]\tvalidation_0-rmse:7906.29441\tvalidation_1-rmse:10474.73907\n",
      "[1400]\tvalidation_0-rmse:7579.04991\tvalidation_1-rmse:10345.42480\n",
      "[1500]\tvalidation_0-rmse:7288.01261\tvalidation_1-rmse:10227.83618\n",
      "[1600]\tvalidation_0-rmse:7026.34797\tvalidation_1-rmse:10143.15714\n",
      "[1700]\tvalidation_0-rmse:6791.61185\tvalidation_1-rmse:10078.03416\n",
      "[1799]\tvalidation_0-rmse:6581.55176\tvalidation_1-rmse:10025.49584\n"
     ]
    },
    {
     "data": {
      "text/html": [
       "<style>#sk-container-id-19 {\n",
       "  /* Definition of color scheme common for light and dark mode */\n",
       "  --sklearn-color-text: black;\n",
       "  --sklearn-color-line: gray;\n",
       "  /* Definition of color scheme for unfitted estimators */\n",
       "  --sklearn-color-unfitted-level-0: #fff5e6;\n",
       "  --sklearn-color-unfitted-level-1: #f6e4d2;\n",
       "  --sklearn-color-unfitted-level-2: #ffe0b3;\n",
       "  --sklearn-color-unfitted-level-3: chocolate;\n",
       "  /* Definition of color scheme for fitted estimators */\n",
       "  --sklearn-color-fitted-level-0: #f0f8ff;\n",
       "  --sklearn-color-fitted-level-1: #d4ebff;\n",
       "  --sklearn-color-fitted-level-2: #b3dbfd;\n",
       "  --sklearn-color-fitted-level-3: cornflowerblue;\n",
       "\n",
       "  /* Specific color for light theme */\n",
       "  --sklearn-color-text-on-default-background: var(--sg-text-color, var(--theme-code-foreground, var(--jp-content-font-color1, black)));\n",
       "  --sklearn-color-background: var(--sg-background-color, var(--theme-background, var(--jp-layout-color0, white)));\n",
       "  --sklearn-color-border-box: var(--sg-text-color, var(--theme-code-foreground, var(--jp-content-font-color1, black)));\n",
       "  --sklearn-color-icon: #696969;\n",
       "\n",
       "  @media (prefers-color-scheme: dark) {\n",
       "    /* Redefinition of color scheme for dark theme */\n",
       "    --sklearn-color-text-on-default-background: var(--sg-text-color, var(--theme-code-foreground, var(--jp-content-font-color1, white)));\n",
       "    --sklearn-color-background: var(--sg-background-color, var(--theme-background, var(--jp-layout-color0, #111)));\n",
       "    --sklearn-color-border-box: var(--sg-text-color, var(--theme-code-foreground, var(--jp-content-font-color1, white)));\n",
       "    --sklearn-color-icon: #878787;\n",
       "  }\n",
       "}\n",
       "\n",
       "#sk-container-id-19 {\n",
       "  color: var(--sklearn-color-text);\n",
       "}\n",
       "\n",
       "#sk-container-id-19 pre {\n",
       "  padding: 0;\n",
       "}\n",
       "\n",
       "#sk-container-id-19 input.sk-hidden--visually {\n",
       "  border: 0;\n",
       "  clip: rect(1px 1px 1px 1px);\n",
       "  clip: rect(1px, 1px, 1px, 1px);\n",
       "  height: 1px;\n",
       "  margin: -1px;\n",
       "  overflow: hidden;\n",
       "  padding: 0;\n",
       "  position: absolute;\n",
       "  width: 1px;\n",
       "}\n",
       "\n",
       "#sk-container-id-19 div.sk-dashed-wrapped {\n",
       "  border: 1px dashed var(--sklearn-color-line);\n",
       "  margin: 0 0.4em 0.5em 0.4em;\n",
       "  box-sizing: border-box;\n",
       "  padding-bottom: 0.4em;\n",
       "  background-color: var(--sklearn-color-background);\n",
       "}\n",
       "\n",
       "#sk-container-id-19 div.sk-container {\n",
       "  /* jupyter's `normalize.less` sets `[hidden] { display: none; }`\n",
       "     but bootstrap.min.css set `[hidden] { display: none !important; }`\n",
       "     so we also need the `!important` here to be able to override the\n",
       "     default hidden behavior on the sphinx rendered scikit-learn.org.\n",
       "     See: https://github.com/scikit-learn/scikit-learn/issues/21755 */\n",
       "  display: inline-block !important;\n",
       "  position: relative;\n",
       "}\n",
       "\n",
       "#sk-container-id-19 div.sk-text-repr-fallback {\n",
       "  display: none;\n",
       "}\n",
       "\n",
       "div.sk-parallel-item,\n",
       "div.sk-serial,\n",
       "div.sk-item {\n",
       "  /* draw centered vertical line to link estimators */\n",
       "  background-image: linear-gradient(var(--sklearn-color-text-on-default-background), var(--sklearn-color-text-on-default-background));\n",
       "  background-size: 2px 100%;\n",
       "  background-repeat: no-repeat;\n",
       "  background-position: center center;\n",
       "}\n",
       "\n",
       "/* Parallel-specific style estimator block */\n",
       "\n",
       "#sk-container-id-19 div.sk-parallel-item::after {\n",
       "  content: \"\";\n",
       "  width: 100%;\n",
       "  border-bottom: 2px solid var(--sklearn-color-text-on-default-background);\n",
       "  flex-grow: 1;\n",
       "}\n",
       "\n",
       "#sk-container-id-19 div.sk-parallel {\n",
       "  display: flex;\n",
       "  align-items: stretch;\n",
       "  justify-content: center;\n",
       "  background-color: var(--sklearn-color-background);\n",
       "  position: relative;\n",
       "}\n",
       "\n",
       "#sk-container-id-19 div.sk-parallel-item {\n",
       "  display: flex;\n",
       "  flex-direction: column;\n",
       "}\n",
       "\n",
       "#sk-container-id-19 div.sk-parallel-item:first-child::after {\n",
       "  align-self: flex-end;\n",
       "  width: 50%;\n",
       "}\n",
       "\n",
       "#sk-container-id-19 div.sk-parallel-item:last-child::after {\n",
       "  align-self: flex-start;\n",
       "  width: 50%;\n",
       "}\n",
       "\n",
       "#sk-container-id-19 div.sk-parallel-item:only-child::after {\n",
       "  width: 0;\n",
       "}\n",
       "\n",
       "/* Serial-specific style estimator block */\n",
       "\n",
       "#sk-container-id-19 div.sk-serial {\n",
       "  display: flex;\n",
       "  flex-direction: column;\n",
       "  align-items: center;\n",
       "  background-color: var(--sklearn-color-background);\n",
       "  padding-right: 1em;\n",
       "  padding-left: 1em;\n",
       "}\n",
       "\n",
       "\n",
       "/* Toggleable style: style used for estimator/Pipeline/ColumnTransformer box that is\n",
       "clickable and can be expanded/collapsed.\n",
       "- Pipeline and ColumnTransformer use this feature and define the default style\n",
       "- Estimators will overwrite some part of the style using the `sk-estimator` class\n",
       "*/\n",
       "\n",
       "/* Pipeline and ColumnTransformer style (default) */\n",
       "\n",
       "#sk-container-id-19 div.sk-toggleable {\n",
       "  /* Default theme specific background. It is overwritten whether we have a\n",
       "  specific estimator or a Pipeline/ColumnTransformer */\n",
       "  background-color: var(--sklearn-color-background);\n",
       "}\n",
       "\n",
       "/* Toggleable label */\n",
       "#sk-container-id-19 label.sk-toggleable__label {\n",
       "  cursor: pointer;\n",
       "  display: block;\n",
       "  width: 100%;\n",
       "  margin-bottom: 0;\n",
       "  padding: 0.5em;\n",
       "  box-sizing: border-box;\n",
       "  text-align: center;\n",
       "}\n",
       "\n",
       "#sk-container-id-19 label.sk-toggleable__label-arrow:before {\n",
       "  /* Arrow on the left of the label */\n",
       "  content: \"▸\";\n",
       "  float: left;\n",
       "  margin-right: 0.25em;\n",
       "  color: var(--sklearn-color-icon);\n",
       "}\n",
       "\n",
       "#sk-container-id-19 label.sk-toggleable__label-arrow:hover:before {\n",
       "  color: var(--sklearn-color-text);\n",
       "}\n",
       "\n",
       "/* Toggleable content - dropdown */\n",
       "\n",
       "#sk-container-id-19 div.sk-toggleable__content {\n",
       "  max-height: 0;\n",
       "  max-width: 0;\n",
       "  overflow: hidden;\n",
       "  text-align: left;\n",
       "  /* unfitted */\n",
       "  background-color: var(--sklearn-color-unfitted-level-0);\n",
       "}\n",
       "\n",
       "#sk-container-id-19 div.sk-toggleable__content.fitted {\n",
       "  /* fitted */\n",
       "  background-color: var(--sklearn-color-fitted-level-0);\n",
       "}\n",
       "\n",
       "#sk-container-id-19 div.sk-toggleable__content pre {\n",
       "  margin: 0.2em;\n",
       "  border-radius: 0.25em;\n",
       "  color: var(--sklearn-color-text);\n",
       "  /* unfitted */\n",
       "  background-color: var(--sklearn-color-unfitted-level-0);\n",
       "}\n",
       "\n",
       "#sk-container-id-19 div.sk-toggleable__content.fitted pre {\n",
       "  /* unfitted */\n",
       "  background-color: var(--sklearn-color-fitted-level-0);\n",
       "}\n",
       "\n",
       "#sk-container-id-19 input.sk-toggleable__control:checked~div.sk-toggleable__content {\n",
       "  /* Expand drop-down */\n",
       "  max-height: 200px;\n",
       "  max-width: 100%;\n",
       "  overflow: auto;\n",
       "}\n",
       "\n",
       "#sk-container-id-19 input.sk-toggleable__control:checked~label.sk-toggleable__label-arrow:before {\n",
       "  content: \"▾\";\n",
       "}\n",
       "\n",
       "/* Pipeline/ColumnTransformer-specific style */\n",
       "\n",
       "#sk-container-id-19 div.sk-label input.sk-toggleable__control:checked~label.sk-toggleable__label {\n",
       "  color: var(--sklearn-color-text);\n",
       "  background-color: var(--sklearn-color-unfitted-level-2);\n",
       "}\n",
       "\n",
       "#sk-container-id-19 div.sk-label.fitted input.sk-toggleable__control:checked~label.sk-toggleable__label {\n",
       "  background-color: var(--sklearn-color-fitted-level-2);\n",
       "}\n",
       "\n",
       "/* Estimator-specific style */\n",
       "\n",
       "/* Colorize estimator box */\n",
       "#sk-container-id-19 div.sk-estimator input.sk-toggleable__control:checked~label.sk-toggleable__label {\n",
       "  /* unfitted */\n",
       "  background-color: var(--sklearn-color-unfitted-level-2);\n",
       "}\n",
       "\n",
       "#sk-container-id-19 div.sk-estimator.fitted input.sk-toggleable__control:checked~label.sk-toggleable__label {\n",
       "  /* fitted */\n",
       "  background-color: var(--sklearn-color-fitted-level-2);\n",
       "}\n",
       "\n",
       "#sk-container-id-19 div.sk-label label.sk-toggleable__label,\n",
       "#sk-container-id-19 div.sk-label label {\n",
       "  /* The background is the default theme color */\n",
       "  color: var(--sklearn-color-text-on-default-background);\n",
       "}\n",
       "\n",
       "/* On hover, darken the color of the background */\n",
       "#sk-container-id-19 div.sk-label:hover label.sk-toggleable__label {\n",
       "  color: var(--sklearn-color-text);\n",
       "  background-color: var(--sklearn-color-unfitted-level-2);\n",
       "}\n",
       "\n",
       "/* Label box, darken color on hover, fitted */\n",
       "#sk-container-id-19 div.sk-label.fitted:hover label.sk-toggleable__label.fitted {\n",
       "  color: var(--sklearn-color-text);\n",
       "  background-color: var(--sklearn-color-fitted-level-2);\n",
       "}\n",
       "\n",
       "/* Estimator label */\n",
       "\n",
       "#sk-container-id-19 div.sk-label label {\n",
       "  font-family: monospace;\n",
       "  font-weight: bold;\n",
       "  display: inline-block;\n",
       "  line-height: 1.2em;\n",
       "}\n",
       "\n",
       "#sk-container-id-19 div.sk-label-container {\n",
       "  text-align: center;\n",
       "}\n",
       "\n",
       "/* Estimator-specific */\n",
       "#sk-container-id-19 div.sk-estimator {\n",
       "  font-family: monospace;\n",
       "  border: 1px dotted var(--sklearn-color-border-box);\n",
       "  border-radius: 0.25em;\n",
       "  box-sizing: border-box;\n",
       "  margin-bottom: 0.5em;\n",
       "  /* unfitted */\n",
       "  background-color: var(--sklearn-color-unfitted-level-0);\n",
       "}\n",
       "\n",
       "#sk-container-id-19 div.sk-estimator.fitted {\n",
       "  /* fitted */\n",
       "  background-color: var(--sklearn-color-fitted-level-0);\n",
       "}\n",
       "\n",
       "/* on hover */\n",
       "#sk-container-id-19 div.sk-estimator:hover {\n",
       "  /* unfitted */\n",
       "  background-color: var(--sklearn-color-unfitted-level-2);\n",
       "}\n",
       "\n",
       "#sk-container-id-19 div.sk-estimator.fitted:hover {\n",
       "  /* fitted */\n",
       "  background-color: var(--sklearn-color-fitted-level-2);\n",
       "}\n",
       "\n",
       "/* Specification for estimator info (e.g. \"i\" and \"?\") */\n",
       "\n",
       "/* Common style for \"i\" and \"?\" */\n",
       "\n",
       ".sk-estimator-doc-link,\n",
       "a:link.sk-estimator-doc-link,\n",
       "a:visited.sk-estimator-doc-link {\n",
       "  float: right;\n",
       "  font-size: smaller;\n",
       "  line-height: 1em;\n",
       "  font-family: monospace;\n",
       "  background-color: var(--sklearn-color-background);\n",
       "  border-radius: 1em;\n",
       "  height: 1em;\n",
       "  width: 1em;\n",
       "  text-decoration: none !important;\n",
       "  margin-left: 1ex;\n",
       "  /* unfitted */\n",
       "  border: var(--sklearn-color-unfitted-level-1) 1pt solid;\n",
       "  color: var(--sklearn-color-unfitted-level-1);\n",
       "}\n",
       "\n",
       ".sk-estimator-doc-link.fitted,\n",
       "a:link.sk-estimator-doc-link.fitted,\n",
       "a:visited.sk-estimator-doc-link.fitted {\n",
       "  /* fitted */\n",
       "  border: var(--sklearn-color-fitted-level-1) 1pt solid;\n",
       "  color: var(--sklearn-color-fitted-level-1);\n",
       "}\n",
       "\n",
       "/* On hover */\n",
       "div.sk-estimator:hover .sk-estimator-doc-link:hover,\n",
       ".sk-estimator-doc-link:hover,\n",
       "div.sk-label-container:hover .sk-estimator-doc-link:hover,\n",
       ".sk-estimator-doc-link:hover {\n",
       "  /* unfitted */\n",
       "  background-color: var(--sklearn-color-unfitted-level-3);\n",
       "  color: var(--sklearn-color-background);\n",
       "  text-decoration: none;\n",
       "}\n",
       "\n",
       "div.sk-estimator.fitted:hover .sk-estimator-doc-link.fitted:hover,\n",
       ".sk-estimator-doc-link.fitted:hover,\n",
       "div.sk-label-container:hover .sk-estimator-doc-link.fitted:hover,\n",
       ".sk-estimator-doc-link.fitted:hover {\n",
       "  /* fitted */\n",
       "  background-color: var(--sklearn-color-fitted-level-3);\n",
       "  color: var(--sklearn-color-background);\n",
       "  text-decoration: none;\n",
       "}\n",
       "\n",
       "/* Span, style for the box shown on hovering the info icon */\n",
       ".sk-estimator-doc-link span {\n",
       "  display: none;\n",
       "  z-index: 9999;\n",
       "  position: relative;\n",
       "  font-weight: normal;\n",
       "  right: .2ex;\n",
       "  padding: .5ex;\n",
       "  margin: .5ex;\n",
       "  width: min-content;\n",
       "  min-width: 20ex;\n",
       "  max-width: 50ex;\n",
       "  color: var(--sklearn-color-text);\n",
       "  box-shadow: 2pt 2pt 4pt #999;\n",
       "  /* unfitted */\n",
       "  background: var(--sklearn-color-unfitted-level-0);\n",
       "  border: .5pt solid var(--sklearn-color-unfitted-level-3);\n",
       "}\n",
       "\n",
       ".sk-estimator-doc-link.fitted span {\n",
       "  /* fitted */\n",
       "  background: var(--sklearn-color-fitted-level-0);\n",
       "  border: var(--sklearn-color-fitted-level-3);\n",
       "}\n",
       "\n",
       ".sk-estimator-doc-link:hover span {\n",
       "  display: block;\n",
       "}\n",
       "\n",
       "/* \"?\"-specific style due to the `<a>` HTML tag */\n",
       "\n",
       "#sk-container-id-19 a.estimator_doc_link {\n",
       "  float: right;\n",
       "  font-size: 1rem;\n",
       "  line-height: 1em;\n",
       "  font-family: monospace;\n",
       "  background-color: var(--sklearn-color-background);\n",
       "  border-radius: 1rem;\n",
       "  height: 1rem;\n",
       "  width: 1rem;\n",
       "  text-decoration: none;\n",
       "  /* unfitted */\n",
       "  color: var(--sklearn-color-unfitted-level-1);\n",
       "  border: var(--sklearn-color-unfitted-level-1) 1pt solid;\n",
       "}\n",
       "\n",
       "#sk-container-id-19 a.estimator_doc_link.fitted {\n",
       "  /* fitted */\n",
       "  border: var(--sklearn-color-fitted-level-1) 1pt solid;\n",
       "  color: var(--sklearn-color-fitted-level-1);\n",
       "}\n",
       "\n",
       "/* On hover */\n",
       "#sk-container-id-19 a.estimator_doc_link:hover {\n",
       "  /* unfitted */\n",
       "  background-color: var(--sklearn-color-unfitted-level-3);\n",
       "  color: var(--sklearn-color-background);\n",
       "  text-decoration: none;\n",
       "}\n",
       "\n",
       "#sk-container-id-19 a.estimator_doc_link.fitted:hover {\n",
       "  /* fitted */\n",
       "  background-color: var(--sklearn-color-fitted-level-3);\n",
       "}\n",
       "</style><div id=\"sk-container-id-19\" class=\"sk-top-container\"><div class=\"sk-text-repr-fallback\"><pre>XGBRegressor(base_score=None, booster=None, callbacks=None,\n",
       "             colsample_bylevel=None, colsample_bynode=None,\n",
       "             colsample_bytree=None, device=None, early_stopping_rounds=50,\n",
       "             enable_categorical=False, eval_metric=None, feature_types=None,\n",
       "             gamma=None, grow_policy=None, importance_type=None,\n",
       "             interaction_constraints=None, learning_rate=0.001, max_bin=None,\n",
       "             max_cat_threshold=None, max_cat_to_onehot=None,\n",
       "             max_delta_step=None, max_depth=3, max_leaves=None,\n",
       "             min_child_weight=None, missing=nan, monotone_constraints=None,\n",
       "             multi_strategy=None, n_estimators=1800, n_jobs=None,\n",
       "             num_parallel_tree=None, random_state=0, ...)</pre><b>In a Jupyter environment, please rerun this cell to show the HTML representation or trust the notebook. <br />On GitHub, the HTML representation is unable to render, please try loading this page with nbviewer.org.</b></div><div class=\"sk-container\" hidden><div class=\"sk-item\"><div class=\"sk-estimator fitted sk-toggleable\"><input class=\"sk-toggleable__control sk-hidden--visually\" id=\"sk-estimator-id-19\" type=\"checkbox\" checked><label for=\"sk-estimator-id-19\" class=\"sk-toggleable__label fitted sk-toggleable__label-arrow fitted\">&nbsp;XGBRegressor<span class=\"sk-estimator-doc-link fitted\">i<span>Fitted</span></span></label><div class=\"sk-toggleable__content fitted\"><pre>XGBRegressor(base_score=None, booster=None, callbacks=None,\n",
       "             colsample_bylevel=None, colsample_bynode=None,\n",
       "             colsample_bytree=None, device=None, early_stopping_rounds=50,\n",
       "             enable_categorical=False, eval_metric=None, feature_types=None,\n",
       "             gamma=None, grow_policy=None, importance_type=None,\n",
       "             interaction_constraints=None, learning_rate=0.001, max_bin=None,\n",
       "             max_cat_threshold=None, max_cat_to_onehot=None,\n",
       "             max_delta_step=None, max_depth=3, max_leaves=None,\n",
       "             min_child_weight=None, missing=nan, monotone_constraints=None,\n",
       "             multi_strategy=None, n_estimators=1800, n_jobs=None,\n",
       "             num_parallel_tree=None, random_state=0, ...)</pre></div> </div></div></div></div>"
      ],
      "text/plain": [
       "XGBRegressor(base_score=None, booster=None, callbacks=None,\n",
       "             colsample_bylevel=None, colsample_bynode=None,\n",
       "             colsample_bytree=None, device=None, early_stopping_rounds=50,\n",
       "             enable_categorical=False, eval_metric=None, feature_types=None,\n",
       "             gamma=None, grow_policy=None, importance_type=None,\n",
       "             interaction_constraints=None, learning_rate=0.001, max_bin=None,\n",
       "             max_cat_threshold=None, max_cat_to_onehot=None,\n",
       "             max_delta_step=None, max_depth=3, max_leaves=None,\n",
       "             min_child_weight=None, missing=nan, monotone_constraints=None,\n",
       "             multi_strategy=None, n_estimators=1800, n_jobs=None,\n",
       "             num_parallel_tree=None, random_state=0, ...)"
      ]
     },
     "execution_count": 374,
     "metadata": {},
     "output_type": "execute_result"
    }
   ],
   "source": [
    "import xgboost as xgb\n",
    "\n",
    "xgb_regr = xgb.XGBRegressor(random_state = 0,\n",
    "                       n_estimators = 1800,\n",
    "                       max_depth = 3,\n",
    "                       early_stopping_rounds = 50,\n",
    "                       learning_rate = 0.001)\n",
    "\n",
    "\n",
    "xgb_regr.fit(X_train_one, y_train_one,\n",
    "       eval_set = [(X_train_one, y_train_one), (X_test_one, y_test_one)],\n",
    "       verbose = 100)"
   ]
  },
  {
   "cell_type": "code",
   "execution_count": 375,
   "id": "14799c26",
   "metadata": {
    "execution": {
     "iopub.execute_input": "2023-10-16T02:59:57.566373Z",
     "iopub.status.busy": "2023-10-16T02:59:57.564737Z",
     "iopub.status.idle": "2023-10-16T02:59:57.573800Z",
     "shell.execute_reply": "2023-10-16T02:59:57.572844Z"
    },
    "papermill": {
     "duration": 0.03051,
     "end_time": "2023-10-16T02:59:57.575279",
     "exception": false,
     "start_time": "2023-10-16T02:59:57.544769",
     "status": "completed"
    },
    "tags": []
   },
   "outputs": [
    {
     "name": "stdout",
     "output_type": "stream",
     "text": [
      "Mean Absolute Percentage Error: 30.059 %.\n",
      "Mean Absolute Error: 9105.0654296875 .\n",
      "R-Squared: 0.5594291687011719 .\n"
     ]
    }
   ],
   "source": [
    "# xgb\n",
    "\n",
    "\n",
    "xgb_mape = round((mean_absolute_percentage_error(test_data['Sales'], xgb_regr.predict(X_test_one)) *100),3)\n",
    "xgb_mae = mean_absolute_error(test_data['Sales'], xgb_regr.predict(X_test_one))\n",
    "xgb_r2 = r2_score(test_data['Sales'],xgb_regr.predict(X_test_one))\n",
    "\n",
    "\n",
    "print('Mean Absolute Percentage Error:',xgb_mape,'%.')\n",
    "print('Mean Absolute Error:',xgb_mae,'.')\n",
    "print('R-Squared:',xgb_r2,'.')"
   ]
  },
  {
   "cell_type": "markdown",
   "id": "e576d596",
   "metadata": {
    "papermill": {
     "duration": 0.017106,
     "end_time": "2023-10-16T02:59:57.610986",
     "exception": false,
     "start_time": "2023-10-16T02:59:57.593880",
     "status": "completed"
    },
    "tags": []
   },
   "source": [
    "### Decision Tree Regressor<a id='dt'></a>"
   ]
  },
  {
   "cell_type": "code",
   "execution_count": 362,
   "id": "f301f4b8",
   "metadata": {
    "execution": {
     "iopub.execute_input": "2023-10-16T02:59:57.648349Z",
     "iopub.status.busy": "2023-10-16T02:59:57.647589Z",
     "iopub.status.idle": "2023-10-16T02:59:57.659181Z",
     "shell.execute_reply": "2023-10-16T02:59:57.658253Z"
    },
    "papermill": {
     "duration": 0.032062,
     "end_time": "2023-10-16T02:59:57.660786",
     "exception": false,
     "start_time": "2023-10-16T02:59:57.628724",
     "status": "completed"
    },
    "tags": []
   },
   "outputs": [
    {
     "data": {
      "text/html": [
       "<style>#sk-container-id-18 {\n",
       "  /* Definition of color scheme common for light and dark mode */\n",
       "  --sklearn-color-text: black;\n",
       "  --sklearn-color-line: gray;\n",
       "  /* Definition of color scheme for unfitted estimators */\n",
       "  --sklearn-color-unfitted-level-0: #fff5e6;\n",
       "  --sklearn-color-unfitted-level-1: #f6e4d2;\n",
       "  --sklearn-color-unfitted-level-2: #ffe0b3;\n",
       "  --sklearn-color-unfitted-level-3: chocolate;\n",
       "  /* Definition of color scheme for fitted estimators */\n",
       "  --sklearn-color-fitted-level-0: #f0f8ff;\n",
       "  --sklearn-color-fitted-level-1: #d4ebff;\n",
       "  --sklearn-color-fitted-level-2: #b3dbfd;\n",
       "  --sklearn-color-fitted-level-3: cornflowerblue;\n",
       "\n",
       "  /* Specific color for light theme */\n",
       "  --sklearn-color-text-on-default-background: var(--sg-text-color, var(--theme-code-foreground, var(--jp-content-font-color1, black)));\n",
       "  --sklearn-color-background: var(--sg-background-color, var(--theme-background, var(--jp-layout-color0, white)));\n",
       "  --sklearn-color-border-box: var(--sg-text-color, var(--theme-code-foreground, var(--jp-content-font-color1, black)));\n",
       "  --sklearn-color-icon: #696969;\n",
       "\n",
       "  @media (prefers-color-scheme: dark) {\n",
       "    /* Redefinition of color scheme for dark theme */\n",
       "    --sklearn-color-text-on-default-background: var(--sg-text-color, var(--theme-code-foreground, var(--jp-content-font-color1, white)));\n",
       "    --sklearn-color-background: var(--sg-background-color, var(--theme-background, var(--jp-layout-color0, #111)));\n",
       "    --sklearn-color-border-box: var(--sg-text-color, var(--theme-code-foreground, var(--jp-content-font-color1, white)));\n",
       "    --sklearn-color-icon: #878787;\n",
       "  }\n",
       "}\n",
       "\n",
       "#sk-container-id-18 {\n",
       "  color: var(--sklearn-color-text);\n",
       "}\n",
       "\n",
       "#sk-container-id-18 pre {\n",
       "  padding: 0;\n",
       "}\n",
       "\n",
       "#sk-container-id-18 input.sk-hidden--visually {\n",
       "  border: 0;\n",
       "  clip: rect(1px 1px 1px 1px);\n",
       "  clip: rect(1px, 1px, 1px, 1px);\n",
       "  height: 1px;\n",
       "  margin: -1px;\n",
       "  overflow: hidden;\n",
       "  padding: 0;\n",
       "  position: absolute;\n",
       "  width: 1px;\n",
       "}\n",
       "\n",
       "#sk-container-id-18 div.sk-dashed-wrapped {\n",
       "  border: 1px dashed var(--sklearn-color-line);\n",
       "  margin: 0 0.4em 0.5em 0.4em;\n",
       "  box-sizing: border-box;\n",
       "  padding-bottom: 0.4em;\n",
       "  background-color: var(--sklearn-color-background);\n",
       "}\n",
       "\n",
       "#sk-container-id-18 div.sk-container {\n",
       "  /* jupyter's `normalize.less` sets `[hidden] { display: none; }`\n",
       "     but bootstrap.min.css set `[hidden] { display: none !important; }`\n",
       "     so we also need the `!important` here to be able to override the\n",
       "     default hidden behavior on the sphinx rendered scikit-learn.org.\n",
       "     See: https://github.com/scikit-learn/scikit-learn/issues/21755 */\n",
       "  display: inline-block !important;\n",
       "  position: relative;\n",
       "}\n",
       "\n",
       "#sk-container-id-18 div.sk-text-repr-fallback {\n",
       "  display: none;\n",
       "}\n",
       "\n",
       "div.sk-parallel-item,\n",
       "div.sk-serial,\n",
       "div.sk-item {\n",
       "  /* draw centered vertical line to link estimators */\n",
       "  background-image: linear-gradient(var(--sklearn-color-text-on-default-background), var(--sklearn-color-text-on-default-background));\n",
       "  background-size: 2px 100%;\n",
       "  background-repeat: no-repeat;\n",
       "  background-position: center center;\n",
       "}\n",
       "\n",
       "/* Parallel-specific style estimator block */\n",
       "\n",
       "#sk-container-id-18 div.sk-parallel-item::after {\n",
       "  content: \"\";\n",
       "  width: 100%;\n",
       "  border-bottom: 2px solid var(--sklearn-color-text-on-default-background);\n",
       "  flex-grow: 1;\n",
       "}\n",
       "\n",
       "#sk-container-id-18 div.sk-parallel {\n",
       "  display: flex;\n",
       "  align-items: stretch;\n",
       "  justify-content: center;\n",
       "  background-color: var(--sklearn-color-background);\n",
       "  position: relative;\n",
       "}\n",
       "\n",
       "#sk-container-id-18 div.sk-parallel-item {\n",
       "  display: flex;\n",
       "  flex-direction: column;\n",
       "}\n",
       "\n",
       "#sk-container-id-18 div.sk-parallel-item:first-child::after {\n",
       "  align-self: flex-end;\n",
       "  width: 50%;\n",
       "}\n",
       "\n",
       "#sk-container-id-18 div.sk-parallel-item:last-child::after {\n",
       "  align-self: flex-start;\n",
       "  width: 50%;\n",
       "}\n",
       "\n",
       "#sk-container-id-18 div.sk-parallel-item:only-child::after {\n",
       "  width: 0;\n",
       "}\n",
       "\n",
       "/* Serial-specific style estimator block */\n",
       "\n",
       "#sk-container-id-18 div.sk-serial {\n",
       "  display: flex;\n",
       "  flex-direction: column;\n",
       "  align-items: center;\n",
       "  background-color: var(--sklearn-color-background);\n",
       "  padding-right: 1em;\n",
       "  padding-left: 1em;\n",
       "}\n",
       "\n",
       "\n",
       "/* Toggleable style: style used for estimator/Pipeline/ColumnTransformer box that is\n",
       "clickable and can be expanded/collapsed.\n",
       "- Pipeline and ColumnTransformer use this feature and define the default style\n",
       "- Estimators will overwrite some part of the style using the `sk-estimator` class\n",
       "*/\n",
       "\n",
       "/* Pipeline and ColumnTransformer style (default) */\n",
       "\n",
       "#sk-container-id-18 div.sk-toggleable {\n",
       "  /* Default theme specific background. It is overwritten whether we have a\n",
       "  specific estimator or a Pipeline/ColumnTransformer */\n",
       "  background-color: var(--sklearn-color-background);\n",
       "}\n",
       "\n",
       "/* Toggleable label */\n",
       "#sk-container-id-18 label.sk-toggleable__label {\n",
       "  cursor: pointer;\n",
       "  display: block;\n",
       "  width: 100%;\n",
       "  margin-bottom: 0;\n",
       "  padding: 0.5em;\n",
       "  box-sizing: border-box;\n",
       "  text-align: center;\n",
       "}\n",
       "\n",
       "#sk-container-id-18 label.sk-toggleable__label-arrow:before {\n",
       "  /* Arrow on the left of the label */\n",
       "  content: \"▸\";\n",
       "  float: left;\n",
       "  margin-right: 0.25em;\n",
       "  color: var(--sklearn-color-icon);\n",
       "}\n",
       "\n",
       "#sk-container-id-18 label.sk-toggleable__label-arrow:hover:before {\n",
       "  color: var(--sklearn-color-text);\n",
       "}\n",
       "\n",
       "/* Toggleable content - dropdown */\n",
       "\n",
       "#sk-container-id-18 div.sk-toggleable__content {\n",
       "  max-height: 0;\n",
       "  max-width: 0;\n",
       "  overflow: hidden;\n",
       "  text-align: left;\n",
       "  /* unfitted */\n",
       "  background-color: var(--sklearn-color-unfitted-level-0);\n",
       "}\n",
       "\n",
       "#sk-container-id-18 div.sk-toggleable__content.fitted {\n",
       "  /* fitted */\n",
       "  background-color: var(--sklearn-color-fitted-level-0);\n",
       "}\n",
       "\n",
       "#sk-container-id-18 div.sk-toggleable__content pre {\n",
       "  margin: 0.2em;\n",
       "  border-radius: 0.25em;\n",
       "  color: var(--sklearn-color-text);\n",
       "  /* unfitted */\n",
       "  background-color: var(--sklearn-color-unfitted-level-0);\n",
       "}\n",
       "\n",
       "#sk-container-id-18 div.sk-toggleable__content.fitted pre {\n",
       "  /* unfitted */\n",
       "  background-color: var(--sklearn-color-fitted-level-0);\n",
       "}\n",
       "\n",
       "#sk-container-id-18 input.sk-toggleable__control:checked~div.sk-toggleable__content {\n",
       "  /* Expand drop-down */\n",
       "  max-height: 200px;\n",
       "  max-width: 100%;\n",
       "  overflow: auto;\n",
       "}\n",
       "\n",
       "#sk-container-id-18 input.sk-toggleable__control:checked~label.sk-toggleable__label-arrow:before {\n",
       "  content: \"▾\";\n",
       "}\n",
       "\n",
       "/* Pipeline/ColumnTransformer-specific style */\n",
       "\n",
       "#sk-container-id-18 div.sk-label input.sk-toggleable__control:checked~label.sk-toggleable__label {\n",
       "  color: var(--sklearn-color-text);\n",
       "  background-color: var(--sklearn-color-unfitted-level-2);\n",
       "}\n",
       "\n",
       "#sk-container-id-18 div.sk-label.fitted input.sk-toggleable__control:checked~label.sk-toggleable__label {\n",
       "  background-color: var(--sklearn-color-fitted-level-2);\n",
       "}\n",
       "\n",
       "/* Estimator-specific style */\n",
       "\n",
       "/* Colorize estimator box */\n",
       "#sk-container-id-18 div.sk-estimator input.sk-toggleable__control:checked~label.sk-toggleable__label {\n",
       "  /* unfitted */\n",
       "  background-color: var(--sklearn-color-unfitted-level-2);\n",
       "}\n",
       "\n",
       "#sk-container-id-18 div.sk-estimator.fitted input.sk-toggleable__control:checked~label.sk-toggleable__label {\n",
       "  /* fitted */\n",
       "  background-color: var(--sklearn-color-fitted-level-2);\n",
       "}\n",
       "\n",
       "#sk-container-id-18 div.sk-label label.sk-toggleable__label,\n",
       "#sk-container-id-18 div.sk-label label {\n",
       "  /* The background is the default theme color */\n",
       "  color: var(--sklearn-color-text-on-default-background);\n",
       "}\n",
       "\n",
       "/* On hover, darken the color of the background */\n",
       "#sk-container-id-18 div.sk-label:hover label.sk-toggleable__label {\n",
       "  color: var(--sklearn-color-text);\n",
       "  background-color: var(--sklearn-color-unfitted-level-2);\n",
       "}\n",
       "\n",
       "/* Label box, darken color on hover, fitted */\n",
       "#sk-container-id-18 div.sk-label.fitted:hover label.sk-toggleable__label.fitted {\n",
       "  color: var(--sklearn-color-text);\n",
       "  background-color: var(--sklearn-color-fitted-level-2);\n",
       "}\n",
       "\n",
       "/* Estimator label */\n",
       "\n",
       "#sk-container-id-18 div.sk-label label {\n",
       "  font-family: monospace;\n",
       "  font-weight: bold;\n",
       "  display: inline-block;\n",
       "  line-height: 1.2em;\n",
       "}\n",
       "\n",
       "#sk-container-id-18 div.sk-label-container {\n",
       "  text-align: center;\n",
       "}\n",
       "\n",
       "/* Estimator-specific */\n",
       "#sk-container-id-18 div.sk-estimator {\n",
       "  font-family: monospace;\n",
       "  border: 1px dotted var(--sklearn-color-border-box);\n",
       "  border-radius: 0.25em;\n",
       "  box-sizing: border-box;\n",
       "  margin-bottom: 0.5em;\n",
       "  /* unfitted */\n",
       "  background-color: var(--sklearn-color-unfitted-level-0);\n",
       "}\n",
       "\n",
       "#sk-container-id-18 div.sk-estimator.fitted {\n",
       "  /* fitted */\n",
       "  background-color: var(--sklearn-color-fitted-level-0);\n",
       "}\n",
       "\n",
       "/* on hover */\n",
       "#sk-container-id-18 div.sk-estimator:hover {\n",
       "  /* unfitted */\n",
       "  background-color: var(--sklearn-color-unfitted-level-2);\n",
       "}\n",
       "\n",
       "#sk-container-id-18 div.sk-estimator.fitted:hover {\n",
       "  /* fitted */\n",
       "  background-color: var(--sklearn-color-fitted-level-2);\n",
       "}\n",
       "\n",
       "/* Specification for estimator info (e.g. \"i\" and \"?\") */\n",
       "\n",
       "/* Common style for \"i\" and \"?\" */\n",
       "\n",
       ".sk-estimator-doc-link,\n",
       "a:link.sk-estimator-doc-link,\n",
       "a:visited.sk-estimator-doc-link {\n",
       "  float: right;\n",
       "  font-size: smaller;\n",
       "  line-height: 1em;\n",
       "  font-family: monospace;\n",
       "  background-color: var(--sklearn-color-background);\n",
       "  border-radius: 1em;\n",
       "  height: 1em;\n",
       "  width: 1em;\n",
       "  text-decoration: none !important;\n",
       "  margin-left: 1ex;\n",
       "  /* unfitted */\n",
       "  border: var(--sklearn-color-unfitted-level-1) 1pt solid;\n",
       "  color: var(--sklearn-color-unfitted-level-1);\n",
       "}\n",
       "\n",
       ".sk-estimator-doc-link.fitted,\n",
       "a:link.sk-estimator-doc-link.fitted,\n",
       "a:visited.sk-estimator-doc-link.fitted {\n",
       "  /* fitted */\n",
       "  border: var(--sklearn-color-fitted-level-1) 1pt solid;\n",
       "  color: var(--sklearn-color-fitted-level-1);\n",
       "}\n",
       "\n",
       "/* On hover */\n",
       "div.sk-estimator:hover .sk-estimator-doc-link:hover,\n",
       ".sk-estimator-doc-link:hover,\n",
       "div.sk-label-container:hover .sk-estimator-doc-link:hover,\n",
       ".sk-estimator-doc-link:hover {\n",
       "  /* unfitted */\n",
       "  background-color: var(--sklearn-color-unfitted-level-3);\n",
       "  color: var(--sklearn-color-background);\n",
       "  text-decoration: none;\n",
       "}\n",
       "\n",
       "div.sk-estimator.fitted:hover .sk-estimator-doc-link.fitted:hover,\n",
       ".sk-estimator-doc-link.fitted:hover,\n",
       "div.sk-label-container:hover .sk-estimator-doc-link.fitted:hover,\n",
       ".sk-estimator-doc-link.fitted:hover {\n",
       "  /* fitted */\n",
       "  background-color: var(--sklearn-color-fitted-level-3);\n",
       "  color: var(--sklearn-color-background);\n",
       "  text-decoration: none;\n",
       "}\n",
       "\n",
       "/* Span, style for the box shown on hovering the info icon */\n",
       ".sk-estimator-doc-link span {\n",
       "  display: none;\n",
       "  z-index: 9999;\n",
       "  position: relative;\n",
       "  font-weight: normal;\n",
       "  right: .2ex;\n",
       "  padding: .5ex;\n",
       "  margin: .5ex;\n",
       "  width: min-content;\n",
       "  min-width: 20ex;\n",
       "  max-width: 50ex;\n",
       "  color: var(--sklearn-color-text);\n",
       "  box-shadow: 2pt 2pt 4pt #999;\n",
       "  /* unfitted */\n",
       "  background: var(--sklearn-color-unfitted-level-0);\n",
       "  border: .5pt solid var(--sklearn-color-unfitted-level-3);\n",
       "}\n",
       "\n",
       ".sk-estimator-doc-link.fitted span {\n",
       "  /* fitted */\n",
       "  background: var(--sklearn-color-fitted-level-0);\n",
       "  border: var(--sklearn-color-fitted-level-3);\n",
       "}\n",
       "\n",
       ".sk-estimator-doc-link:hover span {\n",
       "  display: block;\n",
       "}\n",
       "\n",
       "/* \"?\"-specific style due to the `<a>` HTML tag */\n",
       "\n",
       "#sk-container-id-18 a.estimator_doc_link {\n",
       "  float: right;\n",
       "  font-size: 1rem;\n",
       "  line-height: 1em;\n",
       "  font-family: monospace;\n",
       "  background-color: var(--sklearn-color-background);\n",
       "  border-radius: 1rem;\n",
       "  height: 1rem;\n",
       "  width: 1rem;\n",
       "  text-decoration: none;\n",
       "  /* unfitted */\n",
       "  color: var(--sklearn-color-unfitted-level-1);\n",
       "  border: var(--sklearn-color-unfitted-level-1) 1pt solid;\n",
       "}\n",
       "\n",
       "#sk-container-id-18 a.estimator_doc_link.fitted {\n",
       "  /* fitted */\n",
       "  border: var(--sklearn-color-fitted-level-1) 1pt solid;\n",
       "  color: var(--sklearn-color-fitted-level-1);\n",
       "}\n",
       "\n",
       "/* On hover */\n",
       "#sk-container-id-18 a.estimator_doc_link:hover {\n",
       "  /* unfitted */\n",
       "  background-color: var(--sklearn-color-unfitted-level-3);\n",
       "  color: var(--sklearn-color-background);\n",
       "  text-decoration: none;\n",
       "}\n",
       "\n",
       "#sk-container-id-18 a.estimator_doc_link.fitted:hover {\n",
       "  /* fitted */\n",
       "  background-color: var(--sklearn-color-fitted-level-3);\n",
       "}\n",
       "</style><div id=\"sk-container-id-18\" class=\"sk-top-container\"><div class=\"sk-text-repr-fallback\"><pre>DecisionTreeRegressor(random_state=0)</pre><b>In a Jupyter environment, please rerun this cell to show the HTML representation or trust the notebook. <br />On GitHub, the HTML representation is unable to render, please try loading this page with nbviewer.org.</b></div><div class=\"sk-container\" hidden><div class=\"sk-item\"><div class=\"sk-estimator fitted sk-toggleable\"><input class=\"sk-toggleable__control sk-hidden--visually\" id=\"sk-estimator-id-18\" type=\"checkbox\" checked><label for=\"sk-estimator-id-18\" class=\"sk-toggleable__label fitted sk-toggleable__label-arrow fitted\">&nbsp;&nbsp;DecisionTreeRegressor<a class=\"sk-estimator-doc-link fitted\" rel=\"noreferrer\" target=\"_blank\" href=\"https://scikit-learn.org/1.5/modules/generated/sklearn.tree.DecisionTreeRegressor.html\">?<span>Documentation for DecisionTreeRegressor</span></a><span class=\"sk-estimator-doc-link fitted\">i<span>Fitted</span></span></label><div class=\"sk-toggleable__content fitted\"><pre>DecisionTreeRegressor(random_state=0)</pre></div> </div></div></div></div>"
      ],
      "text/plain": [
       "DecisionTreeRegressor(random_state=0)"
      ]
     },
     "execution_count": 362,
     "metadata": {},
     "output_type": "execute_result"
    }
   ],
   "source": [
    "from sklearn.tree import DecisionTreeRegressor\n",
    "\n",
    "regressor_tree = DecisionTreeRegressor(random_state = 0)\n",
    "\n",
    "regressor_tree.fit(X_train_one, y_train_one)"
   ]
  },
  {
   "cell_type": "code",
   "execution_count": 363,
   "id": "dd52dd8a",
   "metadata": {
    "execution": {
     "iopub.execute_input": "2023-10-16T02:59:57.697456Z",
     "iopub.status.busy": "2023-10-16T02:59:57.697162Z",
     "iopub.status.idle": "2023-10-16T02:59:57.704448Z",
     "shell.execute_reply": "2023-10-16T02:59:57.703694Z"
    },
    "papermill": {
     "duration": 0.027581,
     "end_time": "2023-10-16T02:59:57.706143",
     "exception": false,
     "start_time": "2023-10-16T02:59:57.678562",
     "status": "completed"
    },
    "tags": []
   },
   "outputs": [
    {
     "data": {
      "text/plain": [
       "array([29177., 30099., 30099., 30099., 31093., 31099., 31866., 31386.,\n",
       "       29985., 31628., 29536., 29536., 29536., 55431., 71971., 58872.,\n",
       "       67966., 67966., 67966., 60365., 60365., 37663., 51495., 52532.])"
      ]
     },
     "execution_count": 363,
     "metadata": {},
     "output_type": "execute_result"
    }
   ],
   "source": [
    "regressor_tree.predict(X_test_one)"
   ]
  },
  {
   "cell_type": "code",
   "execution_count": 376,
   "id": "72ec55f9",
   "metadata": {
    "execution": {
     "iopub.execute_input": "2023-10-16T02:59:57.744457Z",
     "iopub.status.busy": "2023-10-16T02:59:57.744124Z",
     "iopub.status.idle": "2023-10-16T02:59:57.756462Z",
     "shell.execute_reply": "2023-10-16T02:59:57.755567Z"
    },
    "papermill": {
     "duration": 0.033446,
     "end_time": "2023-10-16T02:59:57.758297",
     "exception": false,
     "start_time": "2023-10-16T02:59:57.724851",
     "status": "completed"
    },
    "tags": []
   },
   "outputs": [
    {
     "name": "stdout",
     "output_type": "stream",
     "text": [
      "Mean Absolute Percentage Error: 19.834 %.\n",
      "Mean Absolute Error: 7246.166666666667 .\n",
      "R-Squared: 0.6431473023327279 .\n"
     ]
    }
   ],
   "source": [
    "# decision trees\n",
    "\n",
    "# variable creation\n",
    "\n",
    "decision_mape = round((mean_absolute_percentage_error(test_data['Sales'], regressor_tree.predict(X_test_one))* 100),3)\n",
    "decision_mae = mean_absolute_error(test_data['Sales'], regressor_tree.predict(X_test_one),)\n",
    "decision_r2 = r2_score(test_data['Sales'],regressor_tree.predict(X_test_one))\n",
    "\n",
    "# printing results\n",
    "\n",
    "print('Mean Absolute Percentage Error:',decision_mape,'%.')\n",
    "print('Mean Absolute Error:',decision_mae,'.')\n",
    "print('R-Squared:',decision_r2,'.')"
   ]
  },
  {
   "cell_type": "markdown",
   "id": "bb7016c8",
   "metadata": {
    "papermill": {
     "duration": 0.019558,
     "end_time": "2023-10-16T02:59:57.801713",
     "exception": false,
     "start_time": "2023-10-16T02:59:57.782155",
     "status": "completed"
    },
    "tags": []
   },
   "source": [
    "### Linear Regression<a id='lr'></a>"
   ]
  },
  {
   "cell_type": "code",
   "execution_count": 365,
   "id": "76594116",
   "metadata": {
    "execution": {
     "iopub.execute_input": "2023-10-16T02:59:57.852849Z",
     "iopub.status.busy": "2023-10-16T02:59:57.852520Z",
     "iopub.status.idle": "2023-10-16T02:59:57.884416Z",
     "shell.execute_reply": "2023-10-16T02:59:57.883421Z"
    },
    "papermill": {
     "duration": 0.057064,
     "end_time": "2023-10-16T02:59:57.886361",
     "exception": false,
     "start_time": "2023-10-16T02:59:57.829297",
     "status": "completed"
    },
    "tags": []
   },
   "outputs": [
    {
     "data": {
      "text/plain": [
       "array([[39018.94426413],\n",
       "       [39508.27445382],\n",
       "       [40131.55089393],\n",
       "       [40658.8658412 ],\n",
       "       [38188.35642261],\n",
       "       [38954.57550308],\n",
       "       [39529.87119677],\n",
       "       [40280.09669509],\n",
       "       [40146.73187877],\n",
       "       [40938.94053021],\n",
       "       [42284.92696319],\n",
       "       [42825.23669595],\n",
       "       [46609.15493718],\n",
       "       [65550.42773551],\n",
       "       [98150.80246138],\n",
       "       [67380.07737184],\n",
       "       [66588.59078462],\n",
       "       [64258.02520975],\n",
       "       [64658.3910988 ],\n",
       "       [65309.65630764],\n",
       "       [62819.27209415],\n",
       "       [41219.5424349 ],\n",
       "       [61191.34658378],\n",
       "       [61950.56847206]])"
      ]
     },
     "execution_count": 365,
     "metadata": {},
     "output_type": "execute_result"
    }
   ],
   "source": [
    "from sklearn import linear_model\n",
    "\n",
    "regr_linear = linear_model.LinearRegression()\n",
    "regr_linear.fit(X_train_one, y_train_one)\n",
    "\n",
    "linear_results = regr_linear.predict(X_test_one)\n",
    "linear_results"
   ]
  },
  {
   "cell_type": "code",
   "execution_count": 366,
   "id": "7faf2911",
   "metadata": {
    "execution": {
     "iopub.execute_input": "2023-10-16T02:59:57.922958Z",
     "iopub.status.busy": "2023-10-16T02:59:57.922240Z",
     "iopub.status.idle": "2023-10-16T02:59:57.928878Z",
     "shell.execute_reply": "2023-10-16T02:59:57.928239Z"
    },
    "papermill": {
     "duration": 0.026518,
     "end_time": "2023-10-16T02:59:57.930565",
     "exception": false,
     "start_time": "2023-10-16T02:59:57.904047",
     "status": "completed"
    },
    "tags": []
   },
   "outputs": [
    {
     "name": "stdout",
     "output_type": "stream",
     "text": [
      "Mean Absolute Percentage Error: 44.986 %.\n",
      "Mean Absolute Error: 14489.217784598566 .\n",
      "R-Squared: 0.013831340805822379 .\n"
     ]
    }
   ],
   "source": [
    "# linear regression\n",
    "\n",
    "# storing as variables\n",
    "\n",
    "linear_mape = round((mean_absolute_percentage_error(test_data['Sales'], linear_results)* 100),3)\n",
    "linear_mae = mean_absolute_error(test_data['Sales'], linear_results)\n",
    "linear_r2 = r2_score(test_data['Sales'], linear_results)\n",
    "\n",
    "# printing for immediate eval\n",
    "\n",
    "print('Mean Absolute Percentage Error:',linear_mape,'%.')\n",
    "print('Mean Absolute Error:',linear_mae,'.')\n",
    "print('R-Squared:',linear_r2,'.')"
   ]
  },
  {
   "cell_type": "markdown",
   "id": "ea4a8299",
   "metadata": {
    "papermill": {
     "duration": 0.018608,
     "end_time": "2023-10-16T02:59:57.967465",
     "exception": false,
     "start_time": "2023-10-16T02:59:57.948857",
     "status": "completed"
    },
    "tags": []
   },
   "source": [
    "### Results<a id='re'></a>"
   ]
  },
  {
   "cell_type": "markdown",
   "id": "8db9ba58",
   "metadata": {
    "papermill": {
     "duration": 0.017564,
     "end_time": "2023-10-16T02:59:58.003722",
     "exception": false,
     "start_time": "2023-10-16T02:59:57.986158",
     "status": "completed"
    },
    "tags": []
   },
   "source": [
    "Finally, we'll combine the results stored in variables into a single dataframe to be visualized."
   ]
  },
  {
   "cell_type": "code",
   "execution_count": 377,
   "id": "926e9b01",
   "metadata": {
    "execution": {
     "iopub.execute_input": "2023-10-16T02:59:58.041212Z",
     "iopub.status.busy": "2023-10-16T02:59:58.040700Z",
     "iopub.status.idle": "2023-10-16T02:59:58.050942Z",
     "shell.execute_reply": "2023-10-16T02:59:58.049425Z"
    },
    "papermill": {
     "duration": 0.031139,
     "end_time": "2023-10-16T02:59:58.052673",
     "exception": false,
     "start_time": "2023-10-16T02:59:58.021534",
     "status": "completed"
    },
    "tags": []
   },
   "outputs": [
    {
     "data": {
      "text/html": [
       "<div>\n",
       "<style scoped>\n",
       "    .dataframe tbody tr th:only-of-type {\n",
       "        vertical-align: middle;\n",
       "    }\n",
       "\n",
       "    .dataframe tbody tr th {\n",
       "        vertical-align: top;\n",
       "    }\n",
       "\n",
       "    .dataframe thead th {\n",
       "        text-align: right;\n",
       "    }\n",
       "</style>\n",
       "<table border=\"1\" class=\"dataframe\">\n",
       "  <thead>\n",
       "    <tr style=\"text-align: right;\">\n",
       "      <th></th>\n",
       "      <th>model</th>\n",
       "      <th>mape</th>\n",
       "      <th>mae</th>\n",
       "      <th>r_squared</th>\n",
       "    </tr>\n",
       "  </thead>\n",
       "  <tbody>\n",
       "    <tr>\n",
       "      <th>0</th>\n",
       "      <td>random_forest</td>\n",
       "      <td>22.670</td>\n",
       "      <td>7712.801250</td>\n",
       "      <td>0.627117</td>\n",
       "    </tr>\n",
       "    <tr>\n",
       "      <th>1</th>\n",
       "      <td>extratree</td>\n",
       "      <td>18.394</td>\n",
       "      <td>6372.840125</td>\n",
       "      <td>0.752487</td>\n",
       "    </tr>\n",
       "    <tr>\n",
       "      <th>2</th>\n",
       "      <td>xgboost</td>\n",
       "      <td>30.059</td>\n",
       "      <td>9105.065430</td>\n",
       "      <td>0.559429</td>\n",
       "    </tr>\n",
       "    <tr>\n",
       "      <th>3</th>\n",
       "      <td>decision_trees</td>\n",
       "      <td>19.834</td>\n",
       "      <td>7246.166667</td>\n",
       "      <td>0.643147</td>\n",
       "    </tr>\n",
       "    <tr>\n",
       "      <th>4</th>\n",
       "      <td>linear_regression</td>\n",
       "      <td>44.986</td>\n",
       "      <td>14489.217785</td>\n",
       "      <td>0.013831</td>\n",
       "    </tr>\n",
       "  </tbody>\n",
       "</table>\n",
       "</div>"
      ],
      "text/plain": [
       "               model    mape           mae  r_squared\n",
       "0      random_forest  22.670   7712.801250   0.627117\n",
       "1          extratree  18.394   6372.840125   0.752487\n",
       "2            xgboost  30.059   9105.065430   0.559429\n",
       "3     decision_trees  19.834   7246.166667   0.643147\n",
       "4  linear_regression  44.986  14489.217785   0.013831"
      ]
     },
     "execution_count": 377,
     "metadata": {},
     "output_type": "execute_result"
    }
   ],
   "source": [
    "data = {'model': ['random_forest','extratree', 'xgboost','decision_trees','linear_regression'],\n",
    "        'mape': [forest_mape,extratree_mape, xgb_mape,decision_mape,linear_mape],\n",
    "        'mae': [forest_mae,extratree_mae, xgb_mae,decision_mae,linear_mae],\n",
    "        'r_squared': [forest_r2, extratree_r2, xgb_r2,decision_r2,linear_r2]}\n",
    "\n",
    "results = pd.DataFrame(data)\n",
    "\n",
    "results"
   ]
  },
  {
   "cell_type": "code",
   "execution_count": 378,
   "id": "c25d202a",
   "metadata": {
    "execution": {
     "iopub.execute_input": "2023-10-16T02:59:58.093955Z",
     "iopub.status.busy": "2023-10-16T02:59:58.093476Z",
     "iopub.status.idle": "2023-10-16T02:59:58.232459Z",
     "shell.execute_reply": "2023-10-16T02:59:58.231767Z"
    },
    "papermill": {
     "duration": 0.163038,
     "end_time": "2023-10-16T02:59:58.234394",
     "exception": false,
     "start_time": "2023-10-16T02:59:58.071356",
     "status": "completed"
    },
    "tags": []
   },
   "outputs": [
    {
     "data": {
      "image/png": "[encoded data removed]",
      "text/plain": [
       "<Figure size 640x480 with 1 Axes>"
      ]
     },
     "metadata": {},
     "output_type": "display_data"
    }
   ],
   "source": [
    "results = results.sort_values(by = 'mape', ascending = False)\n",
    "\n",
    "y1 = results.model\n",
    "x1 = round((results.mape),2)\n",
    "\n",
    "plt.barh(y1,x1, color = ['indigo', 'thistle','pink','lightcoral', 'skyblue'])\n",
    "plt.title('Mean Absolute Percentage Error by Model')\n",
    "plt.ylabel('Model')\n",
    "plt.xlabel('MAPE(%)')\n",
    "\n",
    "for index, value in enumerate(x1):\n",
    "    plt.text(value, index,\n",
    "             str(value))\n",
    "\n",
    "plt.show()"
   ]
  },
  {
   "cell_type": "markdown",
   "id": "a88b2abc",
   "metadata": {
    "papermill": {
     "duration": 0.018325,
     "end_time": "2023-10-16T02:59:58.274940",
     "exception": false,
     "start_time": "2023-10-16T02:59:58.256615",
     "status": "completed"
    },
    "tags": []
   },
   "source": [
    "ExtratreeRegressor has the smallest Mean Absolute Percentage Error."
   ]
  },
  {
   "cell_type": "code",
   "execution_count": 379,
   "id": "25c154c4",
   "metadata": {
    "execution": {
     "iopub.execute_input": "2023-10-16T02:59:58.316688Z",
     "iopub.status.busy": "2023-10-16T02:59:58.315697Z",
     "iopub.status.idle": "2023-10-16T02:59:58.470356Z",
     "shell.execute_reply": "2023-10-16T02:59:58.469335Z"
    },
    "papermill": {
     "duration": 0.178562,
     "end_time": "2023-10-16T02:59:58.472364",
     "exception": false,
     "start_time": "2023-10-16T02:59:58.293802",
     "status": "completed"
    },
    "tags": []
   },
   "outputs": [
    {
     "data": {
      "image/png": "[encoded data removed]",
      "text/plain": [
       "<Figure size 640x480 with 1 Axes>"
      ]
     },
     "metadata": {},
     "output_type": "display_data"
    }
   ],
   "source": [
    "results = results.sort_values(by = 'mae', ascending = False)\n",
    "\n",
    "y1 = results.model\n",
    "x1 = round((results.mae),2)\n",
    "\n",
    "plt.barh(y1,x1, color = ['indigo', 'thistle','pink','lightcoral', 'skyblue'])\n",
    "plt.title('Mean Absolute Error by Model')\n",
    "plt.ylabel('Model')\n",
    "plt.xlabel('Mean Absolute Error (Sales)')\n",
    "\n",
    "for index, value in enumerate(x1):\n",
    "    plt.text(value, index,\n",
    "             str(value))\n",
    "\n",
    "plt.show()"
   ]
  },
  {
   "cell_type": "markdown",
   "id": "a23ac255",
   "metadata": {
    "papermill": {
     "duration": 0.019075,
     "end_time": "2023-10-16T02:59:58.512733",
     "exception": false,
     "start_time": "2023-10-16T02:59:58.493658",
     "status": "completed"
    },
    "tags": []
   },
   "source": [
    "Similarly, ExtratreeRegressor has the smallest Mean Absolute Error of the four models tested."
   ]
  },
  {
   "cell_type": "code",
   "execution_count": 380,
   "id": "70398184",
   "metadata": {
    "execution": {
     "iopub.execute_input": "2023-10-16T02:59:58.552549Z",
     "iopub.status.busy": "2023-10-16T02:59:58.551657Z",
     "iopub.status.idle": "2023-10-16T02:59:58.691080Z",
     "shell.execute_reply": "2023-10-16T02:59:58.690255Z"
    },
    "papermill": {
     "duration": 0.16104,
     "end_time": "2023-10-16T02:59:58.692860",
     "exception": false,
     "start_time": "2023-10-16T02:59:58.531820",
     "status": "completed"
    },
    "tags": []
   },
   "outputs": [
    {
     "data": {
      "image/png": "[encoded data removed]",
      "text/plain": [
       "<Figure size 640x480 with 1 Axes>"
      ]
     },
     "metadata": {},
     "output_type": "display_data"
    }
   ],
   "source": [
    "results = results.sort_values(by = 'r_squared', ascending = True)\n",
    "\n",
    "y1 = results.model\n",
    "x1 = round((results.r_squared),2)\n",
    "\n",
    "plt.barh(y1,x1, color = ['indigo', 'thistle','pink','lightcoral', 'skyblue'])\n",
    "plt.title('R-Squared Value by Model')\n",
    "plt.ylabel('Model')\n",
    "plt.xlabel('R-Squared')\n",
    "\n",
    "for index, value in enumerate(x1):\n",
    "    plt.text(value, index,\n",
    "             str(value))\n",
    "\n",
    "plt.show()"
   ]
  },
  {
   "cell_type": "markdown",
   "id": "ecdb33e9",
   "metadata": {
    "papermill": {
     "duration": 0.018988,
     "end_time": "2023-10-16T02:59:58.733979",
     "exception": false,
     "start_time": "2023-10-16T02:59:58.714991",
     "status": "completed"
    },
    "tags": []
   },
   "source": [
    "Lastly, ExtratreeRegressor has the highest R-Square value of the five models tested on a single product."
   ]
  },
  {
   "cell_type": "markdown",
   "id": "a0676a8d",
   "metadata": {
    "papermill": {
     "duration": 0.018713,
     "end_time": "2023-10-16T02:59:58.771983",
     "exception": false,
     "start_time": "2023-10-16T02:59:58.753270",
     "status": "completed"
    },
    "tags": []
   },
   "source": [
    "__Given that ExtratreeRegressor has produced the closest predictions, we select ExtratreeRegressor model for forecasting sales.__"
   ]
  },
  {
   "cell_type": "code",
   "execution_count": 381,
   "id": "2d94a152",
   "metadata": {},
   "outputs": [
    {
     "data": {
      "image/png": "[encoded data removed]",
      "text/plain": [
       "<Figure size 1000x600 with 1 Axes>"
      ]
     },
     "metadata": {},
     "output_type": "display_data"
    }
   ],
   "source": [
    "# Aggregate sales by year\n",
    "yearly_sales = dfe.groupby('year')['Sales'].sum()\n",
    "\n",
    "# Plot the yearly sales\n",
    "plt.figure(figsize=(10, 6))\n",
    "yearly_sales.plot(kind='bar', color='skyblue')\n",
    "plt.title('Yearly Sales')\n",
    "plt.xlabel('Year')\n",
    "plt.ylabel('Total Sales')\n",
    "plt.xticks(rotation=45)\n",
    "plt.grid(True)\n",
    "plt.show()"
   ]
  },
  {
   "cell_type": "code",
   "execution_count": 382,
   "id": "f9828f74",
   "metadata": {},
   "outputs": [
    {
     "data": {
      "image/png": "[encoded data removed]",
      "text/plain": [
       "<Figure size 1000x600 with 1 Axes>"
      ]
     },
     "metadata": {},
     "output_type": "display_data"
    }
   ],
   "source": [
    "# Aggregate sales by monthly\n",
    "monthly_sales = dfe.groupby('month')['Sales'].sum()\n",
    "\n",
    "# Plot the monthly sales\n",
    "plt.figure(figsize=(10, 6))\n",
    "monthly_sales.plot(kind='bar', color='lightcoral')\n",
    "plt.title('Monthly Sales')\n",
    "plt.xlabel('Month')\n",
    "plt.ylabel('Total Sales')\n",
    "plt.xticks(rotation=45)\n",
    "plt.grid(True)\n",
    "plt.show()"
   ]
  },
  {
   "cell_type": "code",
   "execution_count": 383,
   "id": "13a127b2",
   "metadata": {},
   "outputs": [
    {
     "data": {
      "image/png": "[encoded data removed]",
      "text/plain": [
       "<Figure size 1000x600 with 1 Axes>"
      ]
     },
     "metadata": {},
     "output_type": "display_data"
    }
   ],
   "source": [
    "# Aggregate sales by quarterly\n",
    "quarter_sales = dfe.groupby('quarter')['Sales'].sum()\n",
    "\n",
    "# Plot the quarterly sales\n",
    "plt.figure(figsize=(10, 6))\n",
    "quarter_sales.plot(kind='bar', color='#2ca02c')\n",
    "plt.title('Quarterly Sales')\n",
    "plt.xlabel('Quarter')\n",
    "plt.ylabel('Total Sales')\n",
    "plt.xticks(rotation=45)\n",
    "plt.grid(True)\n",
    "plt.show()"
   ]
  },
  {
   "cell_type": "code",
   "execution_count": null,
   "id": "8ce3a7fb",
   "metadata": {},
   "outputs": [],
   "source": []
  },
  {
   "cell_type": "code",
   "execution_count": null,
   "id": "9d403974",
   "metadata": {},
   "outputs": [],
   "source": []
  }
 ],
 "metadata": {
  "kernelspec": {
   "display_name": "Python 3",
   "language": "python",
   "name": "python3"
  },
  "language_info": {
   "codemirror_mode": {
    "name": "ipython",
    "version": 3
   },
   "file_extension": ".py",
   "mimetype": "text/x-python",
   "name": "python",
   "nbconvert_exporter": "python",
   "pygments_lexer": "ipython3",
   "version": "3.11.9"
  },
  "papermill": {
   "default_parameters": {},
   "duration": 12.431055,
   "end_time": "2023-10-16T02:59:59.589352",
   "environment_variables": {},
   "exception": null,
   "input_path": "__notebook__.ipynb",
   "output_path": "__notebook__.ipynb",
   "parameters": {},
   "start_time": "2023-10-16T02:59:47.158297",
   "version": "2.4.0"
  }
 },
 "nbformat": 4,
 "nbformat_minor": 5
}
